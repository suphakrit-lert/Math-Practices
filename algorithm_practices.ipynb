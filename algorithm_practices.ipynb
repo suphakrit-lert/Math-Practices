{
 "cells": [
  {
   "cell_type": "markdown",
   "metadata": {},
   "source": [
    "# Easy"
   ]
  },
  {
   "cell_type": "markdown",
   "metadata": {},
   "source": [
    "## 0. Finding Pairs\n",
    "Given a list of integers called input, return True if any value appears at least twice in the array. Return False if every element in the input list is distinct. For example, if the input list was [1,3,5,7,1], then return True because the number 1 shows up twice."
   ]
  },
  {
   "cell_type": "code",
   "execution_count": 286,
   "metadata": {},
   "outputs": [
    {
     "name": "stdout",
     "output_type": "stream",
     "text": [
      "False\n",
      "True\n"
     ]
    }
   ],
   "source": [
    "unique_nums = set()\n",
    "nums = [1, 3, 5, 7, 1]\n",
    "for num in nums:\n",
    "    if num in unique_nums:\n",
    "        print(False)\n",
    "        break\n",
    "    else:\n",
    "        unique_nums.add(num)\n"
   ]
  },
  {
   "cell_type": "code",
   "execution_count": 147,
   "metadata": {},
   "outputs": [],
   "source": [
    "def contains_duplicate(input) -> bool:\n",
    "    input_frequency = {}\n",
    "    for i in input:\n",
    "        if i in input_frequency.keys():\n",
    "            return True\n",
    "        else:\n",
    "            input_frequency[i] = 1\n",
    "    return False"
   ]
  },
  {
   "cell_type": "markdown",
   "metadata": {},
   "source": [
    "## 0. Maximizing Profit \n",
    "**Tips: Loop one time, Find the min_price and max_profit (price - min_price, max_profit) at each turn**\n",
    "\n",
    "You are given a list of stock prices, where the stock's price on the i^\"th \"  day is stored as the i^\"th \"  element of the prices list. You want to maximize your profit trading the stock, but are only allowed to buy the stock once and sell it once on a future day. Write a function called max_profit which takes in this list of stock prices, and computes the max profit possible. Return 0 if you can't make any profit. Input: `prices = [9,1,3,6,4,8,3,5,5]` Output: 7 Explanation: Buy on day 2 (price=1) and sell on day 6 (price=8), profit =8-1=7."
   ]
  },
  {
   "cell_type": "code",
   "execution_count": 281,
   "metadata": {},
   "outputs": [
    {
     "name": "stdout",
     "output_type": "stream",
     "text": [
      "7\n"
     ]
    }
   ],
   "source": [
    "prices = [9,1,3,6,4,8,3,5,5]\n",
    "max_profit = 0\n",
    "min_value = prices[0]\n",
    "\n",
    "for price in prices:\n",
    "    min_value = min(min_value, price)\n",
    "    max_profit = max(max_profit, price - min_value)\n",
    "print(max_profit)"
   ]
  },
  {
   "cell_type": "code",
   "execution_count": null,
   "metadata": {},
   "outputs": [],
   "source": [
    "class Solution(object):\n",
    "    def __init__(self, s) -> None:\n",
    "        self.s = s\n",
    "\n",
    "    def strangePrinter(self, s):\n",
    "        \"\"\"\n",
    "        :type s: str\n",
    "        :rtype: int\n",
    "        \"\"\"\n",
    "        "
   ]
  },
  {
   "cell_type": "code",
   "execution_count": 2,
   "metadata": {},
   "outputs": [
    {
     "name": "stdout",
     "output_type": "stream",
     "text": [
      "a\n",
      "a\n",
      "a\n",
      "b\n",
      "b\n",
      "b\n"
     ]
    }
   ],
   "source": [
    "s = \"aaabbb\"\n",
    "for w in s:\n",
    "    print(w)"
   ]
  },
  {
   "cell_type": "markdown",
   "metadata": {},
   "source": [
    "## (O)(R) 1. Two Sum\n",
    "\n",
    "**Tips: Find a complement if the complement in the list or not**\n",
    "\n",
    "Given an array of integers nums and an integer target, return indices of the two numbers such that they add up to target.\n",
    "You may assume that each input would have exactly one solution, and you may not use the same element twice.\n",
    "You can return the answer in any order.\n",
    "\n",
    "Example 1:\n",
    "\n",
    "```\n",
    "Input: nums = [2,7,11,15], target = 9\n",
    "Output: [0,1]\n",
    "Explanation: Because nums [0] + nums [1] == 9, we return [0, 1].\n",
    "```\n",
    "```\n",
    "Example 2:\n",
    "Input: nums $=[3,2,4]$, target $=6$\n",
    "Output: $[1,2]$\n",
    "```\n",
    "\n",
    "```\n",
    "Example 3:\n",
    "Input: nums $=[3,3]$, target $=6$\n",
    "Output: $[0,1]$\n",
    "```\n",
    "\n",
    "Constraints:\n",
    "- $2<=$ nums. length $<=10^4$\n",
    "- $-10^9<=$ nums [i] $<=10^9$\n",
    "- $-10^9<=$ target $<=10^9$\n",
    "- Only one valid answer exists."
   ]
  },
  {
   "cell_type": "code",
   "execution_count": 35,
   "metadata": {},
   "outputs": [],
   "source": [
    "class Solution(object):\n",
    "    def twoSum1(self, nums, target):\n",
    "        \"\"\"\n",
    "        :type nums: List[int]\n",
    "        :type target: int\n",
    "        :rtype: List[int]\n",
    "        \"\"\"\n",
    "        for i in range(len(nums)):\n",
    "            for j in range(i + 1, len(nums)):\n",
    "                if nums[i] + nums[j] == target:\n",
    "                    return [i, j]\n",
    "                \n",
    "    def twoSum2(self, nums, target):\n",
    "        \"\"\"\n",
    "        :type nums: List[int]\n",
    "        :type target: int\n",
    "        :rtype: List[int]\n",
    "        \"\"\"\n",
    "        for i in range(len(nums)):\n",
    "            complement = target - nums[i]\n",
    "            if complement in nums[i + 1:]:\n",
    "                return [i, nums.index(complement, i + 1)]\n",
    "\n",
    "    def twoSum3(self, nums, target):\n",
    "        \"\"\"\n",
    "        :type nums: List[int]\n",
    "        :type target: int\n",
    "        :rtype: List[int]\n",
    "        \"\"\"\n",
    "        num_map = {}\n",
    "        n = len(nums)\n",
    "        for i in range(n):\n",
    "            complement = target - nums[i]\n",
    "            if complement in num_map.keys():\n",
    "                return [num_map[complement], i]\n",
    "            num_map[nums[i]] = i\n",
    "            "
   ]
  },
  {
   "cell_type": "code",
   "execution_count": 36,
   "metadata": {},
   "outputs": [],
   "source": [
    "# Create an instance of the Solution class\n",
    "solution = Solution()\n",
    "\n",
    "# Define the list of numbers and the target value\n",
    "nums = [2, 7, 11, 15]\n",
    "target = 9\n",
    "\n",
    "# Call the twoSum method\n",
    "result = solution.twoSum3(nums, target)\n",
    "\n",
    "assert result == [0, 1]"
   ]
  },
  {
   "cell_type": "markdown",
   "metadata": {},
   "source": [
    "## 9. Palindrome Number\n",
    "\n",
    "Given an integer $x$, return true if $x$ is a palindrome, and false otherwise.\n",
    "\n",
    "Example 1:\n",
    "\n",
    "```\n",
    "Input: x = 121\n",
    "Output: true\n",
    "Explanation: 121 reads as 121 from left to right and from right to left.\n",
    "```\n",
    "\n",
    "Example 2:\n",
    "```\n",
    "Input: x=-121\n",
    "Output: false\n",
    "Explanation: From left to right, it reads -121 . From right to left, it becomes 121-. Therefore it is not a palindrome.\n",
    "```\n",
    "\n",
    "Example 3:\n",
    "```\n",
    "Input: x=10\n",
    "Output: false\n",
    "Explanation: Reads 01 from right to left. Therefore it is not a palindrome.\n",
    "```\n",
    "\n",
    "Constraints:\n",
    "- $-2^{31}<=x<=2^{31}-1$\n",
    "\n",
    "Follow up: Could you solve it without converting the integer to a string?"
   ]
  },
  {
   "cell_type": "code",
   "execution_count": null,
   "metadata": {},
   "outputs": [],
   "source": [
    "class Solution(object):\n",
    "    def isPalindrome(self, x):\n",
    "        \"\"\"\n",
    "        :type x: int\n",
    "        :rtype: bool\n",
    "        \"\"\"\n",
    "        x = str(x)\n",
    "        return x == x[::-1]\n",
    "        "
   ]
  },
  {
   "cell_type": "markdown",
   "metadata": {},
   "source": [
    "## (R) 13. Roman to Integer\n",
    "Given a roman numeral, convert it to an integer.\n",
    "\n",
    "Example 1:\n",
    "\n",
    "```\n",
    "Input: s = \"III\"\n",
    "Output: 3\n",
    "Explanation: III = 3.\n",
    "```\n",
    "\n",
    "Example 2:\n",
    "\n",
    "```\n",
    "Input: s = \"LVIII\"\n",
    "Output: 58\n",
    "Explanation: L = 50,V=5, III = 3.\n",
    "```\n",
    "\n",
    "Example 3:\n",
    "\n",
    "```\n",
    "Input: s = \"MCMXCIV\"\n",
    "Output: 1994\n",
    "Explanation: M = 1000, CM = 900, XC = 90 and IV = 4.\n",
    "```\n",
    "\n",
    "Constraints:\n",
    "- $1<=$ s. length $<=15$\n",
    "- $s$ contains only the characters ('I', 'V', 'X', 'L', 'C', 'D', 'M').\n",
    "- It is guaranteed that $s$ is a valid roman numeral in the range [1, 3999]."
   ]
  },
  {
   "cell_type": "code",
   "execution_count": 105,
   "metadata": {},
   "outputs": [
    {
     "name": "stdout",
     "output_type": "stream",
     "text": [
      "0 0\n",
      "1 1000\n",
      "2 900\n",
      "3 1900\n",
      "4 1890\n",
      "5 1990\n",
      "6 1989\n"
     ]
    },
    {
     "data": {
      "text/plain": [
       "1994"
      ]
     },
     "execution_count": 105,
     "metadata": {},
     "output_type": "execute_result"
    }
   ],
   "source": [
    "s = 'MCMXCIV'\n",
    "value_mapping = {\n",
    "    'I': 1,\n",
    "    'V': 5,\n",
    "    'X': 10,\n",
    "    'L': 50,\n",
    "    'C': 100,\n",
    "    'D': 500,\n",
    "    'M': 1000\n",
    "}\n",
    "\n",
    "value = 0\n",
    "n = len(s)\n",
    "i = 0\n",
    "for i in range(n):\n",
    "    if (i < n - 1) and (value_mapping[s[i]] < value_mapping[s[i + 1]]):\n",
    "        value -= value_mapping[s[i]]\n",
    "    else:\n",
    "        value += value_mapping[s[i]]"
   ]
  },
  {
   "cell_type": "code",
   "execution_count": 99,
   "metadata": {},
   "outputs": [
    {
     "data": {
      "text/plain": [
       "1994"
      ]
     },
     "execution_count": 99,
     "metadata": {},
     "output_type": "execute_result"
    }
   ],
   "source": [
    "s = 'MCMXCIV'\n",
    "value_mapping = {\n",
    "    'I': 1,\n",
    "    'V': 5,\n",
    "    'X': 10,\n",
    "    'L': 50,\n",
    "    'C': 100,\n",
    "    'D': 500,\n",
    "    'M': 1000\n",
    "}\n",
    "\n",
    "value = 0\n",
    "n = len(s)\n",
    "i = 0\n",
    "while i < n:\n",
    "    if i + 1 == n:\n",
    "        value += value_mapping[s[i]]\n",
    "        break\n",
    "    elif value_mapping[s[i]] < value_mapping[s[i + 1]]:\n",
    "        value += value_mapping[s[i + 1]] - value_mapping[s[i]]\n",
    "        i += 2\n",
    "    else:\n",
    "        value += value_mapping[s[i]]\n",
    "        i += 1\n",
    "\n",
    "value\n"
   ]
  },
  {
   "cell_type": "markdown",
   "metadata": {},
   "source": [
    "## (X) 14. Longest Common Prefix\n",
    "**Tips: Sort first then compare the first and last elements**\n",
    "\n",
    "Write a function to find the longest common prefix string amongst an array of strings.\n",
    "If there is no common prefix, return an empty string $\\square$\n",
    "\n",
    "Example 1:\n",
    "\n",
    "$$\n",
    "\\begin{aligned}\n",
    "& \\text { Input: strs }=[\\text { \"flower\", \"flow\", \"flight\" }] \\\\\n",
    "& \\text { Output: \"fl\" }\n",
    "\\end{aligned}\n",
    "$$\n",
    "\n",
    "\n",
    "Example 2:\n",
    "\n",
    "$$\n",
    "\\begin{aligned}\n",
    "& \\text { Input: strs }=[\\text { \"dog\", \"racecar\", \"car\"] } \\\\\n",
    "& \\text { Output: \"\" } \\\\\n",
    "& \\text { Explanation: There is no common prefix among the input strings. }\n",
    "\\end{aligned}\n",
    "$$\n",
    "\n",
    "\n",
    "Constraints:\n",
    "$1<=$ strs. length $<=200$\n",
    "- $0<=$ strs[i]. length $<=200$\n",
    "- strs [i] consists of only lowercase English letters."
   ]
  },
  {
   "cell_type": "code",
   "execution_count": 135,
   "metadata": {},
   "outputs": [
    {
     "name": "stdout",
     "output_type": "stream",
     "text": [
      "fl\n"
     ]
    },
    {
     "data": {
      "text/plain": [
       "'fl'"
      ]
     },
     "execution_count": 135,
     "metadata": {},
     "output_type": "execute_result"
    }
   ],
   "source": [
    "strs = [\"flower\", \"flow\", \"flight\"]\n",
    "# strs = ['a', 'ab']\n",
    "\n",
    "# Sort first\n",
    "strs.sort()\n",
    "first = strs[0]\n",
    "last = strs[-1]\n",
    "\n",
    "answer = ''\n",
    "for i in range(min(len(first), len(last))):\n",
    "    if first[i] != last[i]:\n",
    "        print(answer)\n",
    "        break\n",
    "    answer += first[i]\n"
   ]
  },
  {
   "cell_type": "markdown",
   "metadata": {},
   "source": [
    "## (X)(R) 20. Valid Parentheses\n",
    "Given a string s containing just the characters ' $(1,1){ }^{\\prime}, '\\left\\{{ }^{\\prime},\\right\\}^{\\prime}, '\\left[{ }^{\\prime} \\text { and } '\\right]^{\\prime}$, determine if the input string is valid.\n",
    "An input string is valid if:\n",
    "1. Open brackets must be closed by the same type of brackets.\n",
    "2. Open brackets must be closed in the correct order.\n",
    "3. Every close bracket has a corresponding open bracket of the same type.\n",
    "\n",
    "Example 1:\n",
    "$$\n",
    "\\begin{aligned}\n",
    "& \\text { Input: } s=\\text { \"()\" } \\\\\n",
    "& \\text { Output: true }\n",
    "\\end{aligned}\n",
    "$$\n",
    "\n",
    "Example 2:\n",
    "\n",
    "```\n",
    "Input: s = \"()[]{}\"\n",
    "Output: true\n",
    "```\n",
    "Example 3:\n",
    "Input: $\\mathrm{s}=$ \"(]\"\n",
    "Output: false\n",
    "\n",
    "Constraints:\n",
    "- $1<=$ s. length $<=10^4$\n",
    "- s consists of parentheses only '() []\\{\\}'."
   ]
  },
  {
   "cell_type": "code",
   "execution_count": 177,
   "metadata": {},
   "outputs": [
    {
     "name": "stdout",
     "output_type": "stream",
     "text": [
      "True\n"
     ]
    }
   ],
   "source": [
    "s = \"()[]{}\"\n",
    "\n",
    "mapper = {\n",
    "    '(': ')',\n",
    "    '{': '}',\n",
    "    '[': ']'\n",
    "}\n",
    "stack = []\n",
    "\n",
    "# len(stack) == 0: The stack with opening bracket should not be empty for a closing bracket\n",
    "# c != mapper[stack.pop()]: The popped opening bracket should match the closing one\n",
    "\n",
    "for c in s:\n",
    "    if c in mapper.keys():\n",
    "        stack.append(c)\n",
    "    elif len(stack) == 0 or c != mapper[stack.pop()]:\n",
    "        print(False)\n",
    "        break\n",
    "\n",
    "# The stack should be empty at the end\n",
    "print(len(stack) == 0)"
   ]
  },
  {
   "cell_type": "code",
   "execution_count": 173,
   "metadata": {},
   "outputs": [],
   "source": [
    "s = \"()[]{}\"\n",
    "\n",
    "def isValid(s):\n",
    "    stack = [] #only use append and pop\n",
    "    pairs = {\n",
    "        '(': ')',\n",
    "        '{': '}',\n",
    "        '[': ']'\n",
    "    }\n",
    "    for bracket in s:\n",
    "        if bracket in pairs:\n",
    "            stack.append(bracket)\n",
    "        elif len(stack) == 0 or bracket != pairs[stack.pop()]:\n",
    "            return False\n",
    "    return len(stack) == 0\n"
   ]
  },
  {
   "cell_type": "code",
   "execution_count": 174,
   "metadata": {},
   "outputs": [
    {
     "data": {
      "text/plain": [
       "True"
      ]
     },
     "execution_count": 174,
     "metadata": {},
     "output_type": "execute_result"
    }
   ],
   "source": [
    "isValid(s)"
   ]
  },
  {
   "cell_type": "markdown",
   "metadata": {},
   "source": [
    "## (X)(R) 21. Merge Two Sorted Lists\n",
    "\n",
    "Tips: double pointer + `while i < n1 and j < n2`\n",
    "\n",
    "You are given the heads of two sorted linked lists list1 and list2.\n",
    "Merge the two lists into one sorted list. The list should be made by splicing together the nodes of the first two lists.\n",
    "\n",
    "Return the head of the merged linked list.\n",
    "\n",
    "Example 1:\n",
    "\n",
    "$$\n",
    "\\begin{aligned}\n",
    "& \\text { Input: list1 }=[1,2,4] \\text {, list2 }=[1,3,4] \\\\\n",
    "& \\text { Output: }[1,1,2,3,4,4]\n",
    "\\end{aligned}\n",
    "$$\n",
    "\n",
    "\n",
    "Example 2:\n",
    "\n",
    "```\n",
    "Input: list1 = [], list2 = []\n",
    "Output: []\n",
    "```\n",
    "Example 3:\n",
    "Input: list1 = [], list2 = [0]\n",
    "Output: [0]\n",
    "\n",
    "Constraints:\n",
    "- The number of nodes in both lists is in the range $[0,50]$.\n",
    "- $-100<=$ Node. val <= 100\n",
    "- Both list1 and list2 are sorted in non-decreasing order."
   ]
  },
  {
   "cell_type": "code",
   "execution_count": 293,
   "metadata": {},
   "outputs": [
    {
     "data": {
      "text/plain": [
       "[1, 1, 5, 6, 6, 7]"
      ]
     },
     "execution_count": 293,
     "metadata": {},
     "output_type": "execute_result"
    },
    {
     "ename": "",
     "evalue": "",
     "output_type": "error",
     "traceback": [
      "\u001b[1;31mThe Kernel crashed while executing code in the current cell or a previous cell. \n",
      "\u001b[1;31mPlease review the code in the cell(s) to identify a possible cause of the failure. \n",
      "\u001b[1;31mClick <a href='https://aka.ms/vscodeJupyterKernelCrash'>here</a> for more info. \n",
      "\u001b[1;31mView Jupyter <a href='command:jupyter.viewOutput'>log</a> for further details."
     ]
    }
   ],
   "source": [
    "# list1 = [1,2,4]\n",
    "# list2 = [1,3,4]\n",
    "\n",
    "list2 = [1, 5, 6]\n",
    "list1 = [1, 6, 7]\n",
    "\n",
    "n1, n2 = len(list1), len(list2)\n",
    "merged_list = []\n",
    "i, j = 0, 0\n",
    "\n",
    "while i < n1 and j < n2:\n",
    "    if list1[i] < list2[j]:\n",
    "        merged_list.append(list1[i])\n",
    "        i += 1\n",
    "    else:\n",
    "        merged_list.append(list2[j])\n",
    "        j += 1\n",
    "\n",
    "if i < n1:\n",
    "    merged_list.extend(list1[i:])\n",
    "elif j < n2:\n",
    "    merged_list.extend(list2[j:])\n",
    "\n",
    "merged_list"
   ]
  },
  {
   "cell_type": "code",
   "execution_count": 208,
   "metadata": {},
   "outputs": [
    {
     "name": "stdout",
     "output_type": "stream",
     "text": [
      "[1, 1, 2, 3, 4, 4]\n"
     ]
    }
   ],
   "source": [
    "def merge_two_sorted_lists(list1, list2):\n",
    "    merged_list = []\n",
    "    i, j = 0, 0\n",
    "\n",
    "    # Traverse both lists and append the smaller element to the merged list\n",
    "    while i < len(list1) and j < len(list2):\n",
    "        if list1[i] < list2[j]:\n",
    "            merged_list.append(list1[i])\n",
    "            i += 1\n",
    "        else:\n",
    "            merged_list.append(list2[j])\n",
    "            j += 1\n",
    "\n",
    "    # If there are remaining elements in list1, append them\n",
    "    while i < len(list1):\n",
    "        merged_list.append(list1[i])\n",
    "        i += 1\n",
    "\n",
    "    # If there are remaining elements in list2, append them\n",
    "    while j < len(list2):\n",
    "        merged_list.append(list2[j])\n",
    "        j += 1\n",
    "\n",
    "    return merged_list\n",
    "\n",
    "# Example usage:\n",
    "list1 = [1, 2, 4]\n",
    "list2 = [1, 3, 4]\n",
    "output = merge_two_sorted_lists(list1, list2)\n",
    "print(output)  # Output: [1, 1, 2, 3, 4, 4]\n"
   ]
  },
  {
   "cell_type": "code",
   "execution_count": null,
   "metadata": {},
   "outputs": [],
   "source": [
    "from typing import Optional\n",
    "\n",
    "# Definition for singly-linked list.\n",
    "class ListNode(object):\n",
    "    def __init__(self, val=0, next=None):\n",
    "        self.val = val\n",
    "        self.next = next\n",
    "\n",
    "class Solution:\n",
    "    def mergeTwoLists(self, list1: Optional[ListNode], list2: Optional[ListNode]) -> Optional[ListNode]:\n",
    "        dummy = ListNode()\n",
    "        cur = dummy\n",
    "\n",
    "        while list1 and list2:\n",
    "            if list1.val > list2.val:\n",
    "                cur.next = list2\n",
    "                list2 = list2.next\n",
    "            else:\n",
    "                cur.next = list1\n",
    "                list1 = list1.next\n",
    "            \n",
    "            cur = cur.next\n",
    "        \n",
    "        if list1:\n",
    "            cur.next = list1\n",
    "        else:\n",
    "            cur.next = list2\n",
    "        \n",
    "        return dummy.next"
   ]
  },
  {
   "cell_type": "code",
   "execution_count": 207,
   "metadata": {},
   "outputs": [
    {
     "name": "stdout",
     "output_type": "stream",
     "text": [
      "1 1\n",
      "3 5\n"
     ]
    },
    {
     "data": {
      "text/plain": [
       "[1, 1, 3, 5, 4]"
      ]
     },
     "execution_count": 207,
     "metadata": {},
     "output_type": "execute_result"
    }
   ],
   "source": [
    "# list1 = [1,2,4]\n",
    "# list2 = [1,3,4]\n",
    "\n",
    "list2 = [1,5]\n",
    "list1 = [1,3,4]\n",
    "sorted_list = []\n",
    "\n",
    "n1 = len(list1)\n",
    "n2 = len(list2)\n",
    "\n",
    "i = 0\n",
    "\n",
    "while i < min(n1, n2):\n",
    "    print(list1[i], list2[i])\n",
    "\n",
    "    if list1[i] < list2[i]:\n",
    "        sorted_list.append(list1[i])\n",
    "        sorted_list.append(list2[i])\n",
    "    elif list1[i] > list2[i]:\n",
    "        sorted_list.append(list2[i])\n",
    "        sorted_list.append(list1[i])\n",
    "    else:\n",
    "        sorted_list.append(list1[i])\n",
    "        sorted_list.append(list2[i])\n",
    "    i += 1\n",
    "s\n",
    "if n1 < n2:\n",
    "    sorted_list.extend(list2[n1:n2])\n",
    "elif n1 > n2:\n",
    "    sorted_list.extend(list1[n2:n1])\n",
    "\n",
    "sorted_list"
   ]
  },
  {
   "cell_type": "markdown",
   "metadata": {},
   "source": [
    "## 26. Remove Duplicates from Sorted Array\n",
    "Easy\n",
    "Topics\n",
    "Companies\n",
    "Hint\n",
    "\n",
    "Given an integer array nums sorted in non-decreasing order, remove the duplicates in-place such that each unique element appears only once. The relative order of the elements should be kept the same. Then return the number of unique elements in nums.\n",
    "\n",
    "Consider the number of unique elements of nums to be $k$, to get accepted, you need to do the following things:\n",
    "- Change the array nums such that the first k elements of nums contain the unique elements in the order they were present in nums initially. The remaining elements of nums are not important as well as the size of nums.\n",
    "- Return k.\n",
    "\n",
    "Custom Judge:\n",
    "\n",
    "The judge will test your solution with the following code:\n",
    "\n",
    "```\n",
    "int[] nums = [...]; // Input array\n",
    "int[] expectedNums = [...]; // The expected answer with correct length\n",
    "int k = removeDuplicates(nums); // Calls your implementation\n",
    "assert k == expectedNums.length;\n",
    "for (int i = 0; i <k; i++) {\n",
    "    assert nums[i] == expectedNums[i];\n",
    "}\n",
    "```\n",
    "If all assertions pass, then your solution will be accepted.\n",
    "\n",
    "Example 1:\n",
    "\n",
    "```\n",
    "Input: nums = [1,1,2]\n",
    "Output: 2, nums = [1,2,_]\n",
    "Explanation: Your function should return k = 2, with the first two elements of nums being 1 and 2\n",
    "respectively.\n",
    "It does not matter what you leave beyond the returned k (hence they are underscores).\n",
    "```\n",
    "\n",
    "Example 2:\n",
    "```\n",
    "Input: nums = [0,0,1,1,1,2,2,3,3,4]\n",
    "Output: 5, nums = [0,1,2,3,4,_,_,_,_,-]\n",
    "Explanation: Your function should return k = 5, with the first five elements of nums being 0, 1,\n",
    "2, 3, and 4 respectively.\n",
    "It does not matter what you leave beyond the returned k (hence they are underscores).\n",
    "```\n",
    "\n",
    "Constraints:\n",
    "- $1<=$ nums. length $<=3 * 10^4$\n",
    "$-100<=$ nums $[i]<=100$\n",
    "- nums is sorted in non-decreasing order."
   ]
  },
  {
   "cell_type": "code",
   "execution_count": 46,
   "metadata": {},
   "outputs": [],
   "source": [
    "nums = [0,0,1,1,1,2,2,3,3,4]\n",
    "j = 1\n",
    "for i in range(1, len(nums)):\n",
    "    if nums[i] != nums[i - 1]:\n",
    "        nums[j] = nums[i]\n",
    "        j += 1"
   ]
  },
  {
   "cell_type": "code",
   "execution_count": 44,
   "metadata": {},
   "outputs": [
    {
     "data": {
      "text/plain": [
       "[1, 2, 0]"
      ]
     },
     "execution_count": 44,
     "metadata": {},
     "output_type": "execute_result"
    }
   ],
   "source": [
    "nums = [1,1,2]\n",
    "# 5, nums = [0,1,2,3,4,_,_,_,_,_]\n",
    "\n",
    "unique_nums = set()\n",
    "for i in range(len(nums)):\n",
    "    if nums[i] not in unique_nums:\n",
    "        unique_nums.add(nums[i])\n",
    "    \n",
    "result = list(unique_nums) + [0] * (len(nums) - len(unique_nums))\n",
    "result"
   ]
  },
  {
   "cell_type": "markdown",
   "metadata": {},
   "source": [
    "## 27. Remove Element\n",
    "- Tips: Remove elements by `list.remove(num)`\n",
    "Easy\n",
    "Topics\n",
    "Companies\n",
    "Hint\n",
    "\n",
    "Given an integer array nums and an integer val, remove all occurrences of val in nums in-place. The order of the elements may be changed. Then return the number of elements in nums which are not equal to val.\n",
    "\n",
    "Consider the number of elements in nums which are not equal to val be k, to get accepted, you need to do the following things:\n",
    "- Change the array nums such that the first k elements of nums contain the elements which are not equal to val. The remaining elements of nums are not important as well as the size of nums .\n",
    "- Return k.\n",
    "\n",
    "Example 1:\n",
    "\n",
    "```\n",
    "Input: nums = [3,2,2,3], val = 3\n",
    "Output: 2, nums = [2,2,_,_]\n",
    "\n",
    "Explanation: Your function should return k = 2, with the first two elements of nums being 2.\n",
    "It does not matter what you leave beyond the returned k (hence they are underscores).\n",
    "```\n",
    "Example 2:\n",
    "\n",
    "```\n",
    "Input: nums = [0,1,2,2,3,0,4,2], val = 2\n",
    "Output: 5, nums = [0,1,4,0,3,_,_,-]\n",
    "Explanation: Your function should return k = 5, with the first five elements of nums containing\n",
    "0,0,1,3, and 4.\n",
    "Note that the five elements can be returned in any order.\n",
    "It does not matter what you leave beyond the returned k (hence they are underscores).\n",
    "```\n",
    "\n",
    "Constraints:\n",
    "- $0<=$ nums. length $<=100$\n",
    "- $0<=$ nums [i] $<=50$\n",
    "- $0<=$ val $<=100$"
   ]
  },
  {
   "cell_type": "code",
   "execution_count": 89,
   "metadata": {},
   "outputs": [
    {
     "name": "stdout",
     "output_type": "stream",
     "text": [
      "5 [0, 1, 3, 0, 4, 3, 3, 3]\n"
     ]
    }
   ],
   "source": [
    "nums = [0,1,2,2,3,0,4,2]\n",
    "val = 2\n",
    "\n",
    "n_remove = 0\n",
    "while val in nums:\n",
    "    nums.remove(val)\n",
    "    nums.append(val + 1)\n",
    "    n_remove += 1\n",
    "\n",
    "print(len(nums) - n_remove, nums)"
   ]
  },
  {
   "cell_type": "code",
   "execution_count": 92,
   "metadata": {},
   "outputs": [
    {
     "name": "stdout",
     "output_type": "stream",
     "text": [
      "0 [0, 1, 2, 2, 3, 0, 4, 2]\n",
      "1 [0, 1, 2, 2, 3, 0, 4, 2]\n",
      "2 [0, 1, 2, 2, 3, 0, 4, 2]\n",
      "2 [0, 1, 2, 2, 3, 0, 4, 2]\n",
      "2 [0, 1, 2, 2, 3, 0, 4, 2]\n",
      "3 [0, 1, 3, 2, 3, 0, 4, 2]\n",
      "4 [0, 1, 3, 0, 3, 0, 4, 2]\n",
      "5 [0, 1, 3, 0, 4, 0, 4, 2]\n",
      "5 [0, 1, 3, 0, 4, 0, 4, 2]\n"
     ]
    }
   ],
   "source": [
    "nums = [0,1,2,2,3,0,4,2]\n",
    "val = 2\n",
    "\n",
    "index = 0\n",
    "for i in range(len(nums)):\n",
    "    print(index, nums)\n",
    "    if nums[i] != val:\n",
    "        nums[index] = nums[i]\n",
    "        index += 1\n",
    "print(index, nums)"
   ]
  },
  {
   "cell_type": "markdown",
   "metadata": {},
   "source": [
    "## 228. Summary Ranges\n",
    "Easy\n",
    "Topics\n",
    "Companies\n",
    "\n",
    "You are given a sorted unique integer array nums.\n",
    "\n",
    "A range $[a, b]$ is the set of all integers from $a$ to $b$ (inclusive).\n",
    "Return the smallest sorted list of ranges that cover all the numbers in the array exactly. That is, each element of nums is covered by exactly one of the ranges, and there is no integer $x$ such that $x$ is in one of the ranges but not in nums .\n",
    "\n",
    "Each range $[a, b]$ in the list should be output as:\n",
    "- \"a->b\" if $a \\quad!=b$\n",
    "- \"a\" if $a==b$\n",
    "\n",
    "Example 1:\n",
    "\n",
    "```\n",
    "Input: nums = [0,1,2,4,5,7]\n",
    "Output: [\"0->2\",\"4->5\",\"7\"]\n",
    "Explanation: The ranges are:\n",
    "[0,2] --> \"0->2\"\n",
    "[4,5] --> \"4->5\"\n",
    "[7,7] --> \"7\"\n",
    "```\n",
    "Example 2:\n",
    "\n",
    "```\n",
    "Input: nums = [0,2,3,4,6,8,9]\n",
    "Output: [\"0\",\"2->4\", \"6\", \"8->9\"]\n",
    "Explanation: The ranges are:\n",
    "[0,0] --> \"0\"\n",
    "[2,4] --> \"2->4\"\n",
    "[6,6] --> \"6\"\n",
    "```\n",
    "\n",
    "![](https://cdn.mathpix.com/cropped/2024_08_23_1a635819617b2167e585g.jpg?height=25&width=140&top_left_y=693&top_left_x=32)"
   ]
  },
  {
   "cell_type": "code",
   "execution_count": 27,
   "metadata": {},
   "outputs": [
    {
     "name": "stdout",
     "output_type": "stream",
     "text": [
      "0 1\n",
      "1 1\n",
      "4 3\n",
      "5 1\n",
      "6 1\n"
     ]
    },
    {
     "data": {
      "text/plain": [
       "['0', '2->4', '6', '8', '9']"
      ]
     },
     "execution_count": 27,
     "metadata": {},
     "output_type": "execute_result"
    }
   ],
   "source": [
    "nums = [0,2,3,4,6,8,9]\n",
    "# Output: [\"0\",\"2->4\", \"6\", \"8->9\"]\n",
    "\n",
    "range_list = []\n",
    "\n",
    "i = 0\n",
    "while i < len(nums):\n",
    "    print(i, j)\n",
    "    start = nums[i]\n",
    "    end = ''\n",
    "\n",
    "    j = 1\n",
    "    while start + j == nums[j + 1]:\n",
    "        j += 1\n",
    "        end = start + j - 1\n",
    "        i = j\n",
    "\n",
    "    if end == '':\n",
    "        range_list.append(str(start))\n",
    "    else:\n",
    "        range_list.append(str(start) + '->' + str(end))\n",
    "        \n",
    "    i += 1\n",
    "range_list"
   ]
  },
  {
   "cell_type": "markdown",
   "metadata": {},
   "source": [
    "## (X) 88. Merge Sorted Array\n",
    "Easy\n",
    "Topics\n",
    "Companies\n",
    "Hint\n",
    "\n",
    "You are given two integer arrays nums1 and nums2, sorted in non-decreasing order, and two integers m and n , representing the number of elements in nums1 and nums2 respectively.\n",
    "\n",
    "Merge nums1 and nums2 into a single array sorted in non-decreasing order.\n",
    "The final sorted array should not be returned by the function, but instead be stored inside the array nums 1. To accommodate this, nums1 has a length of $m+n$, where the first $m$ elements denote the elements that should be merged, and the last $n$ elements are set to 0 and should be ignored. nums 2 has a length of $n$.\n",
    "\n",
    "Example 1:\n",
    "\n",
    "```\n",
    "Input: nums1 = [1,2,3,0,0,0], m=3, nums2 = [2,5,6], n = 3\n",
    "Output: [1,2,2,3,5,6]\n",
    "Explanation: The arrays we are merging are [1,2,3] and [2,5,6].\n",
    "```\n",
    "\n",
    "![](https://cdn.mathpix.com/cropped/2024_08_22_efc2f82579f294d2611dg.jpg?height=23&width=746&top_left_y=393&top_left_x=26)\n",
    "Example 2:\n",
    "\n",
    "```\n",
    "Input: nums1 = [1], m = 1, nums2 = [], n = 0\n",
    "Output: [1]\n",
    "Explanation: The arrays we are merging are [1] and [].\n",
    "The result of the merge is [1].\n",
    "```\n",
    "Example 3:\n",
    "\n",
    "```\n",
    "Input: nums1 = [0], m = 0, nums2 = [1], n = 1\n",
    "Output: [1]\n",
    "Explanation: The arrays we are merging are [] and [1].\n",
    "The result of the merge is [1].\n",
    "Note that because m = 0, there are no elements in nums1. The 0 is only there to ensure the merge\n",
    "result can fit in nums1.\n",
    "```"
   ]
  },
  {
   "cell_type": "code",
   "execution_count": null,
   "metadata": {},
   "outputs": [],
   "source": [
    "nums1 = [1, 2, 3, 0, 0, 0]\n",
    "m = 3\n",
    "nums2 = [2, 5, 6]\n",
    "n = 3\n",
    "\n",
    "# nums1 = [1]\n",
    "# m = 1\n",
    "# nums2 = []\n",
    "# n = 0\n",
    "\n",
    "# nums1 = [0]\n",
    "# m = 0\n",
    "# nums2 = [1]\n",
    "# n = 1\n",
    "\n",
    "nums1[m:] = nums2[:n]\n",
    "nums1.sort()"
   ]
  },
  {
   "cell_type": "code",
   "execution_count": 81,
   "metadata": {},
   "outputs": [
    {
     "name": "stdout",
     "output_type": "stream",
     "text": [
      "[1, 2, 2, 3, 5, 6]\n"
     ]
    }
   ],
   "source": [
    "nums1 = [1, 2, 3, 0, 0, 0]\n",
    "m = 3\n",
    "nums2 = [2, 5, 6]\n",
    "n = 3\n",
    "\n",
    "# nums1 = [1]\n",
    "# m = 1\n",
    "# nums2 = []\n",
    "# n = 0\n",
    "\n",
    "# nums1 = [0]\n",
    "# m = 0\n",
    "# nums2 = [1]\n",
    "# n = 1\n",
    "\n",
    "result = []\n",
    "if len(nums1) > m:\n",
    "    for i in range(0, len(nums1) - m):\n",
    "        nums1.remove(0)\n",
    "\n",
    "elif len(nums2) > n:\n",
    "    for i in range(0, len(nums2) - n):\n",
    "        nums2.remove(0)\n",
    "\n",
    "result = nums1 + nums2\n",
    "result.sort()\n",
    "\n",
    "\n",
    "print(result)"
   ]
  },
  {
   "cell_type": "code",
   "execution_count": 82,
   "metadata": {},
   "outputs": [],
   "source": [
    "nums1 = [1, 2, 3, 0, 0, 0]\n",
    "m = 3\n",
    "nums2 = [2, 5, 6]\n",
    "n = 3\n",
    "\n",
    "i = m - 1\n",
    "j = n - 1\n",
    "k = m + n - 1\n",
    "\n",
    "while j >= 0:\n",
    "    if i >= 0 and nums1[i] > nums2[j]:\n",
    "        nums1[k] = nums1[i]\n",
    "        i -= 1\n",
    "    else:\n",
    "        nums1[k] = nums2[j]\n",
    "        j -= 1\n",
    "    k -= 1"
   ]
  },
  {
   "cell_type": "code",
   "execution_count": 83,
   "metadata": {},
   "outputs": [
    {
     "data": {
      "text/plain": [
       "[1, 2, 2, 3, 5, 6]"
      ]
     },
     "execution_count": 83,
     "metadata": {},
     "output_type": "execute_result"
    }
   ],
   "source": [
    "nums1"
   ]
  },
  {
   "cell_type": "code",
   "execution_count": 76,
   "metadata": {},
   "outputs": [
    {
     "data": {
      "text/plain": [
       "True"
      ]
     },
     "execution_count": 76,
     "metadata": {},
     "output_type": "execute_result"
    }
   ],
   "source": [
    "len(nums1) > m"
   ]
  },
  {
   "cell_type": "code",
   "execution_count": 67,
   "metadata": {},
   "outputs": [
    {
     "data": {
      "text/plain": [
       "[0, 1]"
      ]
     },
     "execution_count": 67,
     "metadata": {},
     "output_type": "execute_result"
    }
   ],
   "source": [
    "[0] + [1]"
   ]
  },
  {
   "cell_type": "code",
   "execution_count": 56,
   "metadata": {},
   "outputs": [
    {
     "data": {
      "text/plain": [
       "[]"
      ]
     },
     "execution_count": 56,
     "metadata": {},
     "output_type": "execute_result"
    }
   ],
   "source": [
    "nums1 = [1]\n",
    "nums1[:-1]"
   ]
  },
  {
   "cell_type": "code",
   "execution_count": 52,
   "metadata": {},
   "outputs": [
    {
     "data": {
      "text/plain": [
       "[1, 2, 3, 2, 5, 6]"
      ]
     },
     "execution_count": 52,
     "metadata": {},
     "output_type": "execute_result"
    }
   ],
   "source": [
    "\n",
    "nums1"
   ]
  },
  {
   "cell_type": "markdown",
   "metadata": {},
   "source": [
    "## (X) 392. Is Subsequence\n",
    "\n",
    "Tips: Double Pointers\n",
    "\n",
    "Easy\n",
    "Topics\n",
    "Companies\n",
    "\n",
    "Given two strings $s$ and $t$, return true if $s$ is $a$ subsequence of $t$, or false otherwise.\n",
    "A subsequence of a string is a new string that is formed from the original string by deleting some (can be none) of the characters without disturbing the relative positions of the remaining characters. (i.e., \"ace\" is a subsequence of \"abbcde\" while \"aec\" is not).\n",
    "\n",
    "Example 1:\n",
    "\n",
    "$$\n",
    "\\begin{aligned}\n",
    "& \\text { Input: } s=\\text { \"abc\", } t=\\text { \"ahbgdc\" } \\\\\n",
    "& \\text { Output: true }\n",
    "\\end{aligned}\n",
    "$$\n",
    "\n",
    "\n",
    "Example 2:\n",
    "Input: $\\mathrm{s}=$ \"axc\", $\\mathrm{t}=$ \"ahbgdc\"\n",
    "Output: false\n",
    "\n",
    "Constraints:\n",
    "- $0<=$ s. length $<100$\n",
    "- $0<=$ t. length $<=10^4$\n",
    "- $s$ and $t$ consist only of lowercase English letters.\n",
    "\n",
    "Follow up: Suppose there are lots of incoming $s$, say $s_1, s_2, \\ldots, s_k$ where $k>=10^9$, and you want to check one by one to see if t has its subsequence. In this scenario, how would you change your code?"
   ]
  },
  {
   "cell_type": "code",
   "execution_count": 4,
   "metadata": {},
   "outputs": [
    {
     "data": {
      "text/plain": [
       "True"
      ]
     },
     "execution_count": 4,
     "metadata": {},
     "output_type": "execute_result"
    }
   ],
   "source": [
    "s = \"abc\"\n",
    "t = \"ahbgdc\"\n",
    "# s = \"axc\"\n",
    "# t = \"ahbgdc\"\n",
    "i = 0\n",
    "j = 0\n",
    "\n",
    "while i < len(s) and j < len(t):\n",
    "    if s[i] == t[j]:\n",
    "        i += 1\n",
    "    j += 1\n",
    "\n",
    "i == len(s)"
   ]
  },
  {
   "cell_type": "code",
   "execution_count": 116,
   "metadata": {},
   "outputs": [
    {
     "name": "stdout",
     "output_type": "stream",
     "text": [
      "False\n"
     ]
    }
   ],
   "source": [
    "# s = \"abc\"\n",
    "# t = \"ahbgdc\"\n",
    "# s = \"axc\"\n",
    "# t = \"ahbgdc\"\n",
    "s = \"\"\n",
    "t = \"ahbgdc\"\n",
    "\n",
    "\n",
    "j = t.find(s[0])\n",
    "for i in range(1, len(s)):\n",
    "    if j > t.find(s[i]):\n",
    "        print(False)\n",
    "        break"
   ]
  },
  {
   "cell_type": "code",
   "execution_count": 112,
   "metadata": {},
   "outputs": [
    {
     "data": {
      "text/plain": [
       "0"
      ]
     },
     "execution_count": 112,
     "metadata": {},
     "output_type": "execute_result"
    }
   ],
   "source": [
    "class Solution:\n",
    "    def isSubsequence(self, s: str, t: str) -> bool:\n",
    "        sp = 0\n",
    "        tp = 0\n",
    "\n",
    "        while sp < len(s) and tp < len(t):\n",
    "            if s[sp] == t[tp]:\n",
    "                sp += 1\n",
    "            tp += 1\n",
    "        \n",
    "        return sp == len(s)"
   ]
  },
  {
   "cell_type": "markdown",
   "metadata": {},
   "source": [
    "## 125. Valid Palindrome\n",
    "Easy\n",
    "Topics\n",
    "Companies\n",
    "\n",
    "A phrase is a palindrome if, after converting all uppercase letters into lowercase letters and removing all non-alphanumeric characters, it reads the same forward and backward. Alphanumeric characters include letters and numbers.\n",
    "\n",
    "Given a string $s$, return true if it is a palindrome, or false otherwise.\n",
    "\n",
    "Example 1:\n",
    "\n",
    "```\n",
    "Input: s = \"A man, a plan, a canal: Panama\"\n",
    "Output: true\n",
    "Explanation: \"amanaplanacanalpanama\" is a palindrome.\n",
    "```\n",
    "Example 2:\n",
    "\n",
    "```\n",
    "Input: s = \"race a car\"\n",
    "Output: false\n",
    "Explanation: \"raceacar\" is not a palindrome.\n",
    "```\n",
    "Example 3:\n",
    "\n",
    "```\n",
    "Input: s = \" \"\n",
    "Output: true\n",
    "Explanation: s is an empty string \"\" after removing non-alphanumeric characters.\n",
    "Since an empty string reads the same forward and backward, it is a palindrome.\n",
    "```\n",
    "\n",
    "Constraints:\n",
    "- $1<=$ s. length $<=2 * 10^5$\n",
    "- s consists only of printable ASCII characters."
   ]
  },
  {
   "cell_type": "code",
   "execution_count": 108,
   "metadata": {},
   "outputs": [
    {
     "data": {
      "text/plain": [
       "True"
      ]
     },
     "execution_count": 108,
     "metadata": {},
     "output_type": "execute_result"
    }
   ],
   "source": [
    "import re\n",
    "s = \"A man, a plan, a canal: Panama\"\n",
    "# s = \"race a car\"\n",
    "# s = \" \"\n",
    "# s = \"ab_a\"\n",
    "s = s.lower()\n",
    "s = re.sub(pattern=r'\\s|\\W|_', repl='', string=s)\n",
    "s == s[::-1]"
   ]
  },
  {
   "cell_type": "markdown",
   "metadata": {},
   "source": [
    "169. Majority Element\n",
    "Easy\n",
    "Topics\n",
    "Companies\n",
    "\n",
    "Given an array nums of size $n$, return the majority element.\n",
    "The majority element is the element that appears more than $\\lfloor n / 2\\rfloor$ times. You may assume that the majority element always exists in the array.\n",
    "\n",
    "Example 1:\n",
    "Input: nums $=[3,2,3]$\n",
    "Output: 3\n",
    "\n",
    "Example 2:\n",
    "Input: nums $=[2,2,1,1,1,2,2]$\n",
    "Output: 2\n",
    "\n",
    "Constraints:\n",
    "- $\\mathrm{n}==$ nums. length\n",
    "- $1<n<=5 * 10^4$\n",
    "- $-10^9<=$ nums [i] $<=10^9$\n",
    "\n",
    "Follow-up: Could you solve the problem in linear time and in $0(1)$ space?"
   ]
  },
  {
   "cell_type": "code",
   "execution_count": 6,
   "metadata": {},
   "outputs": [
    {
     "data": {
      "text/plain": [
       "3"
      ]
     },
     "execution_count": 6,
     "metadata": {},
     "output_type": "execute_result"
    }
   ],
   "source": [
    "from collections import Counter\n",
    "nums = [3,2,3]\n",
    "\n",
    "count_dict = Counter(nums)\n",
    "sorted(count_dict.items(), key=lambda item: item[1], reverse=True)[0][0]"
   ]
  },
  {
   "cell_type": "code",
   "execution_count": null,
   "metadata": {},
   "outputs": [],
   "source": [
    "from typing import List\n",
    "def majorityElement(self, nums: List[int]) -> int:\n",
    "    n = len(nums)\n",
    "    m = defaultdict(int)\n",
    "    \n",
    "    for num in nums:\n",
    "        m[num] += 1\n",
    "    \n",
    "    n = n // 2\n",
    "    for key, value in m.items():\n",
    "        if value > n:\n",
    "            return key\n",
    "    \n",
    "    return 0"
   ]
  },
  {
   "cell_type": "code",
   "execution_count": 7,
   "metadata": {},
   "outputs": [
    {
     "data": {
      "text/plain": [
       "3"
      ]
     },
     "execution_count": 7,
     "metadata": {},
     "output_type": "execute_result"
    }
   ],
   "source": [
    "# Moore Voting\n",
    "nums = [3,2,3]\n",
    "\n",
    "count = 0\n",
    "candidate = nums[0]\n",
    "for num in nums:\n",
    "    if num == candidate:\n",
    "        count += 1\n",
    "    else:\n",
    "        if count != 0:\n",
    "            count -= 1\n",
    "        else:\n",
    "            candidate = num\n",
    "\n",
    "candidate"
   ]
  },
  {
   "cell_type": "markdown",
   "metadata": {},
   "source": [
    "## 205. Isomorphic Strings\n",
    "Easy\n",
    "Topics\n",
    "Companies\n",
    "Given two strings $s$ and $t$, determine if they are isomorphic.\n",
    "Two strings $s$ and $t$ are isomorphic if the characters in $s$ can be replaced to get $t$.\n",
    "All occurrences of a character must be replaced with another character while preserving the order of characters. No two characters may map to the same character, but a character may map to itself.\n",
    "\n",
    "Example 1:\n",
    "\n",
    "$$\n",
    "\\begin{aligned}\n",
    "& \\text { Input: } s=\\text { \"egg\", } t=\\text { \"add\" } \\\\\n",
    "& \\text { Output: true }\n",
    "\\end{aligned}\n",
    "$$\n",
    "\n",
    "\n",
    "Example 2:\n",
    "\n",
    "$$\n",
    "\\begin{aligned}\n",
    "& \\text { Input: } s=\\text { \"foo\", } t=\\text { \"bar\" } \\\\\n",
    "& \\text { Output: false }\n",
    "\\end{aligned}\n",
    "$$\n",
    "\n",
    "\n",
    "Example 3:\n",
    "\n",
    "$$\n",
    "\\begin{aligned}\n",
    "& \\text { Input: s = \"paper\", t = \"title\" } \\\\\n",
    "& \\text { Output: true }\n",
    "\\end{aligned}\n",
    "$$\n"
   ]
  },
  {
   "cell_type": "code",
   "execution_count": 60,
   "metadata": {},
   "outputs": [
    {
     "name": "stdout",
     "output_type": "stream",
     "text": [
      "False\n"
     ]
    },
    {
     "data": {
      "text/plain": [
       "{'b': ['b'], 'a': ['a']}"
      ]
     },
     "execution_count": 60,
     "metadata": {},
     "output_type": "execute_result"
    }
   ],
   "source": [
    "mapper = {}\n",
    "# s = \"egg\"\n",
    "# t = \"add\"\n",
    "s = \"badc\"\n",
    "t = \"baba\"\n",
    "for (w1, w2) in zip(s, t):\n",
    "    if w1 > w2:\n",
    "        w1, w2 = w2, w1\n",
    "\n",
    "    if w1 in mapper.keys():\n",
    "        if w2 not in mapper[w1]:\n",
    "            print(False)\n",
    "            break\n",
    "    else:\n",
    "        mapper[w1] = []\n",
    "        mapper[w1].append(w2)\n",
    "\n",
    "mapper      "
   ]
  },
  {
   "cell_type": "code",
   "execution_count": 67,
   "metadata": {},
   "outputs": [
    {
     "name": "stdout",
     "output_type": "stream",
     "text": [
      "False\n"
     ]
    },
    {
     "data": {
      "text/plain": [
       "{'p': 't', 't': 'p', 'a': 'i', 'i': 'a', 'e': 'l', 'l': 'e', 'r': 'e'}"
      ]
     },
     "execution_count": 67,
     "metadata": {},
     "output_type": "execute_result"
    }
   ],
   "source": [
    "# s = \"egg\"\n",
    "# t = \"add\"\n",
    "# s = \"badc\"\n",
    "# t = \"baba\"\n",
    "s = \"paper\"\n",
    "t = \"title\"\n",
    "mapper = {}\n",
    "for (w1, w2) in zip(s, t):\n",
    "    if w1 in mapper.keys():\n",
    "        if mapper[w1] != w2:\n",
    "            print(False)\n",
    "            break\n",
    "    else:\n",
    "        mapper[w1] = w2\n",
    "\n",
    "    if w2 in mapper.keys():\n",
    "        if mapper[w2] != w1:\n",
    "            print(False)\n",
    "            break\n",
    "    else:\n",
    "        mapper[w2] = w1\n",
    "# print(True)\n",
    "mapper"
   ]
  },
  {
   "cell_type": "code",
   "execution_count": 55,
   "metadata": {},
   "outputs": [
    {
     "data": {
      "text/plain": [
       "True"
      ]
     },
     "execution_count": 55,
     "metadata": {},
     "output_type": "execute_result"
    }
   ],
   "source": [
    "'a' < 'b'"
   ]
  },
  {
   "cell_type": "markdown",
   "metadata": {},
   "source": [
    "## 228. Summary Ranges\n",
    "Easy\n",
    "Topics\n",
    "Companies\n",
    "\n",
    "You are given a sorted unique integer array nums.\n",
    "A range $[a, b]$ is the set of all integers from $a$ to $b$ (inclusive).\n",
    "Return the smallest sorted list of ranges that cover all the numbers in the array exactly. That is, each element of nums is covered by exactly one of the ranges, and there is no integer $x$ such that $x$ is in one of the ranges but not in nums.\n",
    "\n",
    "Each range $[a, b]$ in the list should be output as:\n",
    "- \" $a->b$ \" if $a!=b$\n",
    "- \"a\" if $a==b$\n",
    "\n",
    "Example 1:\n",
    "Input: nums $=[0,1,2,4,5,7]$\n",
    "Output: $\\left[\" 0->2^{\\prime \\prime}, \" 4->5^{\\prime \\prime}, \" 7^{\\prime \\prime}\\right]$\n",
    "Explanation: The ranges are:\n",
    "\n",
    "$$\n",
    "\\begin{aligned}\n",
    "& {[0,2] \\rightarrow{ }^{\\prime \\prime} 0 \\rightarrow 2 \"} \\\\\n",
    "& {[4,5] \\rightarrow{ }^{\\prime \\prime} 4 \\rightarrow 5^{\\prime \\prime}} \\\\\n",
    "& {[7,7] \\rightarrow{ }^{\\prime \\prime} 7 \"}\n",
    "\\end{aligned}\n",
    "$$\n",
    "\n",
    "\n",
    "Example 2:\n",
    "\n",
    "$$\n",
    "\\begin{aligned}\n",
    "& \\text { Input: nums }=[0,2,3,4,6,8,9] \\\\\n",
    "& \\text { Output: }[\" 0 \\text { \", \"2->4\", \"6\", \"8->9\"] } \\\\\n",
    "& \\text { Explanation: The ranges are: } \\\\\n",
    "& {[0,0] \\rightarrow{ }^\" 0 \\text { \" }} \\\\\n",
    "& {[2,4] \\rightarrow \" 2->4 \"} \\\\\n",
    "& {[6,6] \\rightarrow{ }^\" 6 \"} \\\\\n",
    "& {[8,9] \\rightarrow{ }^\" 8->9^\"}\n",
    "\\end{aligned}\n",
    "$$\n"
   ]
  },
  {
   "cell_type": "code",
   "execution_count": 58,
   "metadata": {},
   "outputs": [
    {
     "data": {
      "text/plain": [
       "[]"
      ]
     },
     "execution_count": 58,
     "metadata": {},
     "output_type": "execute_result"
    }
   ],
   "source": [
    "nums = [0, 2, 3, 4, 6, 8, 9]\n",
    "# [\"0\", \"2->4\", \"6\", \"8->9\"]\n",
    "\n",
    "result = []\n",
    "while i < len(nums):\n",
    "# for i in range(len(nums) - 1):\n",
    "    start = nums[i]\n",
    "    end = nums[i]\n",
    "\n",
    "    j = 1\n",
    "    while True:\n",
    "        if nums[i] + j == nums[i + 1]\n",
    "        \n",
    "    # for j in range(i, len(nums) - 1):\n",
    "    #     if nums[j] + 1 == nums[j + 1]:\n",
    "    #         end = nums[j + 1]\n",
    "    #     else:\n",
    "    #         end = num[j]\n",
    "    #         break\n",
    "\n",
    "    if start == end:\n",
    "        result.append(start)\n",
    "    else:\n",
    "        result.append(str(start) + '->' + str(end))\n",
    "\n",
    "    i += 1\n",
    "result\n",
    "    "
   ]
  },
  {
   "cell_type": "code",
   "execution_count": 75,
   "metadata": {},
   "outputs": [
    {
     "data": {
      "text/plain": [
       "['0', '2->4', '6', '8->9']"
      ]
     },
     "execution_count": 75,
     "metadata": {},
     "output_type": "execute_result"
    }
   ],
   "source": [
    "nums = [0, 2, 3, 4, 6, 8, 9]\n",
    "result = []\n",
    "\n",
    "ranges = [] # [start, end] or [x, y]\n",
    "for n in nums:\n",
    "    if ranges and ranges[-1][1] == n - 1:\n",
    "        ranges[-1][1] = n\n",
    "    else:\n",
    "        ranges.append([n, n])\n",
    "\n",
    "[f'{x}->{y}' if x != y else f'{x}' for x, y in ranges]"
   ]
  },
  {
   "cell_type": "code",
   "execution_count": 74,
   "metadata": {},
   "outputs": [
    {
     "data": {
      "text/plain": [
       "[[0, 0], [2, 4], [6, 6], [8, 9]]"
      ]
     },
     "execution_count": 74,
     "metadata": {},
     "output_type": "execute_result"
    }
   ],
   "source": [
    "ranges"
   ]
  },
  {
   "cell_type": "code",
   "execution_count": 69,
   "metadata": {},
   "outputs": [
    {
     "data": {
      "text/plain": [
       "['0', '2->4', '6', '8->9']"
      ]
     },
     "execution_count": 69,
     "metadata": {},
     "output_type": "execute_result"
    }
   ],
   "source": [
    "nums = [0, 2, 3, 4, 6, 8, 9]\n",
    "result = []\n",
    "start = nums[0]\n",
    "\n",
    "for i in range(1, len(nums)):\n",
    "    if nums[i] != nums[i - 1] + 1:\n",
    "        if start == nums[i - 1]:\n",
    "            result.append(str(start))\n",
    "        else:\n",
    "            result.append(f'{start}->{nums[i - 1]}')\n",
    "        start = nums[i]\n",
    "\n",
    "# Final range\n",
    "if start == nums[-1]:\n",
    "    result.append(str(start))\n",
    "else:\n",
    "    result.append(f\"{start}->{nums[-1]}\")\n",
    "\n",
    "result"
   ]
  },
  {
   "cell_type": "code",
   "execution_count": 63,
   "metadata": {},
   "outputs": [
    {
     "data": {
      "text/plain": [
       "['0', '2', '3', '4', '6', '8', '9']"
      ]
     },
     "execution_count": 63,
     "metadata": {},
     "output_type": "execute_result"
    }
   ],
   "source": [
    "result"
   ]
  },
  {
   "cell_type": "markdown",
   "metadata": {},
   "source": [
    "## 383. Ransom Note\n",
    "Easy\n",
    "Topics\n",
    "Companies\n",
    "\n",
    "Given two strings ransomNote and magazine, return true if ransomNote can be constructed by using the letters from magazine and false otherwise.\n",
    "\n",
    "Each letter in magazine can only be used once in ransomNote.\n",
    "\n",
    "Example 1:\n",
    "\n",
    "$$\n",
    "\\begin{aligned}\n",
    "& \\text { Input: ransomNote }=\\text { \"a\", magazine }=\\text { \"b\" } \\\\\n",
    "& \\text { Output: false }\n",
    "\\end{aligned}\n",
    "$$\n",
    "\n",
    "\n",
    "Example 2:\n",
    "\n",
    "$$\n",
    "\\begin{aligned}\n",
    "& \\text { Input: ransomNote = \"aa\", magazine = \"ab\" } \\\\\n",
    "& \\text { Output: false }\n",
    "\\end{aligned}\n",
    "$$\n",
    "\n",
    "\n",
    "Example 3:\n",
    "\n",
    "$$\n",
    "\\begin{aligned}\n",
    "& \\text { Input: ransomNote = \"aa\", magazine = \"aab\" } \\\\\n",
    "& \\text { Output: true }\n",
    "\\end{aligned}\n",
    "$$\n",
    "\n",
    "\n",
    "Constraints:\n",
    "- $1<=$ ransomNote. length, magazine. length $\\leqslant=10^5$\n",
    "- ransomNote and magazine consist of lowercase English letters."
   ]
  },
  {
   "cell_type": "code",
   "execution_count": 42,
   "metadata": {},
   "outputs": [
    {
     "data": {
      "text/plain": [
       "True"
      ]
     },
     "execution_count": 42,
     "metadata": {},
     "output_type": "execute_result"
    }
   ],
   "source": [
    "# string1 = \"aa\"\n",
    "# string2 = \"aab\"\n",
    "\n",
    "# string1 = \"aa\"\n",
    "# string2 = \"ab\"\n",
    "\n",
    "# string1 = \"aab\"\n",
    "# string2 = \"baa\"\n",
    "\n",
    "string1 = \"bg\"\n",
    "string2 = \"efjbdfbdgfjhhaiigfhbaejahgfbbgbjagbddfgdiaigdadhcfcj\"\n",
    "\n",
    "from collections import Counter\n",
    "string1_dict = Counter(string1)\n",
    "string2_dict = Counter(string2)\n",
    "string1_dict - string2_dict == {}"
   ]
  },
  {
   "cell_type": "markdown",
   "metadata": {},
   "source": [
    "## 476. Number Complement\n",
    "Tips:\n",
    "- Work with bit -> Use bit operation\n",
    "- Complement of Number: `num.bit_length() -> mask = (1 << bit_length) -> num ^ mask`\n",
    "The complement of an integer is the integer you get when you flip all the 0 's to 1 's and all the 1 's to 0 's in its binary representation.\n",
    "- For example, The integer 5 is \"101\" in binary and its complement is \"010\" which is the integer 2 .\n",
    "\n",
    "Given an integer num, return its complement.\n",
    "\n",
    "Example 1:\n",
    "\n",
    "```\n",
    "Input: num = 5\n",
    "Output: 2\n",
    "Explanation: The binary representation of 5 is 101 (no leading zero bits), and its complement is\n",
    "1.   So you need to output 2.\n",
    "```\n",
    "Example 2:\n",
    "\n",
    "```\n",
    "Input: num = 1\n",
    "Output: 0\n",
    "Explanation: The binary representation of 1 is 1 (no leading zero bits), and its complement is 0.\n",
    "So you need to output 0.\n",
    "```\n",
    "\n",
    "Constraints:\n",
    "- $1<=$ num $<2^{31}$## "
   ]
  },
  {
   "cell_type": "code",
   "execution_count": null,
   "metadata": {},
   "outputs": [],
   "source": [
    "# << Zero fill left shift Operator\n",
    "# Consider the number 5 in binary, which is 0000 0101 (assuming an 8-bit representation).\n",
    "# If you apply 5 << 1, the result is 0000 1010, which is 10 in decimal.\n",
    "# If you apply 5 << 2, the result is 0001 0100, which is 20 in decimal."
   ]
  },
  {
   "cell_type": "code",
   "execution_count": null,
   "metadata": {},
   "outputs": [],
   "source": [
    "# ^ XOR Operator: The result is 1 if the corresponding bits are different (i.e., one is 1 and the other is 0), \n",
    "# and 0 if they are the same (i.e., both 1 or both 0).\n",
    "\n",
    "#    0000 0101   (A = 5)\n",
    "# ^  0000 0011   (B = 3)\n",
    "# --------------\n",
    "#    0000 0110   (Result = 6)"
   ]
  },
  {
   "cell_type": "code",
   "execution_count": 27,
   "metadata": {},
   "outputs": [
    {
     "name": "stdout",
     "output_type": "stream",
     "text": [
      "7\n"
     ]
    },
    {
     "data": {
      "text/plain": [
       "2"
      ]
     },
     "execution_count": 27,
     "metadata": {},
     "output_type": "execute_result"
    }
   ],
   "source": [
    "num = 5\n",
    "bit_length = num.bit_length() # 3\n",
    "1 << bit_length # 1 << 3 = 8\n",
    "mask = (1 << bit_length) - 1 # 7\n",
    "num ^ mask # 5 ^ 7\n",
    "\n",
    "# 5 = 0000 0101\n",
    "# 1 = 0000 0001\n",
    "# 8 = 1 << 3 = 0000 1000\n",
    "# 7 = 0000 0111\n",
    "\n",
    "#   5 = 0000 0101\n",
    "# ^ 7 = 0000 0111\n",
    "#   2 = 0000 0010"
   ]
  },
  {
   "cell_type": "code",
   "execution_count": 1,
   "metadata": {},
   "outputs": [
    {
     "name": "stdout",
     "output_type": "stream",
     "text": [
      "[1, 0, 1]\n"
     ]
    }
   ],
   "source": [
    "num = 5\n",
    "i = 0\n",
    "\n",
    "while num / (2 ** i) > 2:\n",
    "    i += 1\n",
    "\n",
    "max_power = i\n",
    "binary_num = []\n",
    "\n",
    "for i in range(max_power, 0, -1):\n",
    "    if num // 2 ** i > 0:\n",
    "        binary_num.append(1)\n",
    "        num = num % (2 ** i)\n",
    "    else:\n",
    "        binary_num.append(0)\n",
    "\n",
    "if num == 1:\n",
    "    binary_num.append(1)\n",
    "else:\n",
    "    binary_num.append(0)\n",
    "\n",
    "print(binary_num)\n"
   ]
  },
  {
   "cell_type": "code",
   "execution_count": 262,
   "metadata": {},
   "outputs": [
    {
     "name": "stdout",
     "output_type": "stream",
     "text": [
      "[0, 1, 0]\n"
     ]
    }
   ],
   "source": [
    "num = 5\n",
    "i = 0\n",
    "\n",
    "while num / (2 ** i) > 2:\n",
    "    i += 1\n",
    "\n",
    "max_power = i\n",
    "rev_binary_num = []\n",
    "\n",
    "for i in range(max_power, 0, -1):\n",
    "    if num // 2 ** i > 0:\n",
    "        rev_binary_num.append(0)\n",
    "        num = num % (2 ** i)\n",
    "    else:\n",
    "        rev_binary_num.append(1)\n",
    "\n",
    "if num == 1:\n",
    "    rev_binary_num.append(0)\n",
    "else:\n",
    "    rev_binary_num.append(1)\n",
    "\n",
    "print(rev_binary_num)"
   ]
  },
  {
   "cell_type": "code",
   "execution_count": 272,
   "metadata": {},
   "outputs": [],
   "source": [
    "num = 5\n",
    "i = 0\n",
    "\n",
    "while num / (2 ** i) > 2:\n",
    "    i += 1\n",
    "\n",
    "max_power = i\n",
    "rev_binary_num = []\n",
    "\n",
    "for i in range(max_power, 0, -1):\n",
    "    if num // 2 ** i > 0:\n",
    "        rev_binary_num.append(0)\n",
    "        num = num % (2 ** i)\n",
    "    else:\n",
    "        rev_binary_num.append(1)\n",
    "\n",
    "if num == 1:\n",
    "    rev_binary_num.append(0)\n",
    "else:\n",
    "    rev_binary_num.append(1)\n",
    "\n",
    "rev_num = 0\n",
    "for i in range(len(rev_binary_num) - 1, 0, -1):\n",
    "    rev_num += rev_binary_num[i] * (2 ** i)"
   ]
  },
  {
   "cell_type": "markdown",
   "metadata": {},
   "source": [
    "# Medium"
   ]
  },
  {
   "cell_type": "markdown",
   "metadata": {},
   "source": [
    "## 2. Add Two Numbers"
   ]
  },
  {
   "cell_type": "markdown",
   "metadata": {},
   "source": [
    "## (X) 56. Merge Intervals\n",
    "Medium\n",
    "Topics\n",
    "Companies\n",
    "\n",
    "Given an array of intervals where intervals [i] = [start${ }_i$, end $\\left._i\\right]$, merge all overlapping intervals, and return an array of the non-overlapping intervals that cover all the intervals in the input.\n",
    "\n",
    "Example 1:\n",
    "\n",
    "```\n",
    "Input: intervals = [[1,3],[2,6],[8,10],[15,18]]\n",
    "Output: [[1,6],[8,10], [15, 18]]\n",
    "Explanation: Since intervals [1,3] and [2,6] overlap, merge them into\n",
    "[1,6].\n",
    "```\n",
    "Example 2:\n",
    "\n",
    "```\n",
    "Input: intervals = [[1,4],[4,5]]\n",
    "Output: [[1,5]]\n",
    "Explanation: Intervals [1,4] and [4,5] are considered overlapping.\n",
    "```\n",
    "\n",
    "Constraints:\n",
    "- $1 \\ll=$ intervals. length $<=10^4$\n",
    "- intervals[i]. length $==2$"
   ]
  },
  {
   "cell_type": "code",
   "execution_count": 11,
   "metadata": {},
   "outputs": [
    {
     "data": {
      "text/plain": [
       "[[0, 5], [7, 9]]"
      ]
     },
     "execution_count": 11,
     "metadata": {},
     "output_type": "execute_result"
    }
   ],
   "source": [
    "# intervals = [[1,3],[2,6],[8,10],[15,18]]\n",
    "intervals = [[1, 4],[0, 2],[3, 5], [7, 9]]\n",
    "\n",
    "merged_intervals = []\n",
    "n_intervals = len(intervals)\n",
    "\n",
    "intervals = sorted(intervals, key=lambda x: x[0])\n",
    "# [[0, 2], [1, 4],[3, 5], [7, 9]]\n",
    "\n",
    "merged_intervals = [intervals[0]]\n",
    "\n",
    "for i in range(1, len(intervals)):\n",
    "    # current_start = merged_intervals[-1][0]\n",
    "    # current_end = merged_intervals[-1][1]\n",
    "\n",
    "    # next_start = intervals[i][0]\n",
    "    # next_end = intervals[i][1]\n",
    "    \n",
    "    if intervals[i][0] <= merged_intervals[-1][1]:\n",
    "        merged_intervals[-1][1] = max(merged_intervals[-1][1], intervals[i][1])\n",
    "    else:\n",
    "        merged_intervals.append(intervals[i])\n",
    "\n",
    "merged_intervals"
   ]
  },
  {
   "cell_type": "code",
   "execution_count": 5,
   "metadata": {},
   "outputs": [
    {
     "name": "stdout",
     "output_type": "stream",
     "text": [
      "[[1, 6], [1, 3], [2, 6]]\n"
     ]
    }
   ],
   "source": [
    "# intervals = [[1,3],[2,6],[8,10],[15,18]] # [[1,6],[8,10],[15,18]]\n",
    "# intervals = [[1,4], [4,5]]\n",
    "# intervals = [[1,4],[0,4]]\n",
    "# intervals = [[1,4],[2,3]]\n",
    "# intervals = [[1,4],[0,2],[3,5]] # Expect: [[0,5]]\n",
    "\n",
    "merged_intervals = []\n",
    "n_intervals = len(intervals)\n",
    "\n",
    "intervals.sort(key=lambda x: x[0])\n",
    "\n",
    "if n_intervals == 1:\n",
    "    print(intervals)\n",
    "    \n",
    "i = 0\n",
    "j = 0\n",
    "while i < n_intervals:\n",
    "    current_start = intervals[j][0]\n",
    "    current_end = intervals[j][1]\n",
    "\n",
    "    if i < n_intervals - 1:\n",
    "        next_start = intervals[i + 1][0]\n",
    "        next_end = intervals[i + 1][1]\n",
    "\n",
    "    if next_start <= current_end:\n",
    "        if current_end < next_end:\n",
    "            merged_intervals.append([current_start, next_end])\n",
    "        else:\n",
    "            merged_intervals.append([current_start, current_end])\n",
    "        i += 1\n",
    "    else:\n",
    "        merged_intervals.append([current_start, current_end])\n",
    "    i += 1\n",
    "\n",
    "\n",
    "print(merged_intervals)\n"
   ]
  },
  {
   "cell_type": "code",
   "execution_count": 78,
   "metadata": {},
   "outputs": [
    {
     "data": {
      "text/plain": [
       "[[0, 4], [1, 4]]"
      ]
     },
     "execution_count": 78,
     "metadata": {},
     "output_type": "execute_result"
    }
   ],
   "source": [
    "intervals = [[1,4],[0,4]]\n",
    "intervals.sort(key=lambda x: x[0])\n",
    "intervals"
   ]
  },
  {
   "cell_type": "markdown",
   "metadata": {},
   "source": [
    "## (X) 3. Longest Substring Without Repeating Characters\n",
    "Medium\n",
    "Topics\n",
    "Companies\n",
    "Hint\n",
    "\n",
    "Given a string $s$, find the length of the longest substring without repeating characters.\n",
    "\n",
    "Example 1:\n",
    "\n",
    "```\n",
    "Input: s = \"abcabcbb\"\n",
    "Output: 3\n",
    "Explanation: The answer is \"abc\", with the length of 3.\n",
    "```\n",
    "Example 2:\n",
    "\n",
    "```\n",
    "Input: s = \"bbbbb\"\n",
    "Output: 1\n",
    "Explanation: The answer is \"b\", with the length of 1.\n",
    "```\n",
    "Example 3:\n",
    "\n",
    "```\n",
    "Input: s = \"pwwkew\"\n",
    "Output: 3\n",
    "Explanation: The answer is \"wke\", with the length of 3.\n",
    "Notice that the answer must be a substring, \"pwke\" is a subsequence and not a substring.\n",
    "```\n",
    "\n",
    "Constraints:\n",
    "- $0<=$ s. length $<=5 * 10^4$\n",
    "- $s$ consists of English letters, digits, symbols and spaces."
   ]
  },
  {
   "cell_type": "code",
   "execution_count": 35,
   "metadata": {},
   "outputs": [
    {
     "data": {
      "text/plain": [
       "'pwke'"
      ]
     },
     "execution_count": 35,
     "metadata": {},
     "output_type": "execute_result"
    }
   ],
   "source": [
    "s = \"pwwkew\"\n",
    "\n",
    "result = ''\n",
    "for i in range(len(s)):\n",
    "    if s[i] not in result:\n",
    "        result += s[i]\n",
    "\n",
    "result"
   ]
  },
  {
   "cell_type": "markdown",
   "metadata": {},
   "source": [
    "## (X) 209. Minimum Size Subarray Sum\n",
    "Medium\n",
    "Topics\n",
    "Companies\n",
    "\n",
    "Given an array of positive integers nums and a positive integer target, return the minimal length of a subarray whose sum is greater than or equal to target. If there is no such subarray, return 0 instead.\n",
    "\n",
    "Example 1:\n",
    "\n",
    "```\n",
    "Input: target = 7, nums = [2,3,1,2,4,3]\n",
    "Output: 2\n",
    "Explanation: The subarray [4,3] has the minimal length under the problem constraint.\n",
    "```\n",
    "Example 2:\n",
    "\n",
    "$$\n",
    "\\begin{aligned}\n",
    "& \\text { Input: target }=4 \\text {, nums }=[1,4,4] \\\\\n",
    "& \\text { Output: } 1\n",
    "\\end{aligned}\n",
    "$$\n",
    "\n",
    "\n",
    "Example 3:\n",
    "\n",
    "$$\n",
    "\\begin{aligned}\n",
    "& \\text { Input: target }=11, \\text { nums }=[1,1,1,1,1,1,1,1] \\\\\n",
    "& \\text { Output: } 0\n",
    "\\end{aligned}\n",
    "$$\n",
    "\n",
    "\n",
    "Constraints:\n",
    "- $1<=$ target $<=10^9$\n",
    "- $1<=$ nums. length $\\leqslant=10^5$\n",
    "- $1<=$ nums $[i]<=10^4$\n",
    "\n",
    "Follow up: If you have figured out the $O(n)$ solution, try coding another solution of which the time complexity is $0(n \\log (n))$."
   ]
  },
  {
   "cell_type": "code",
   "execution_count": 33,
   "metadata": {},
   "outputs": [
    {
     "data": {
      "text/plain": [
       "2"
      ]
     },
     "execution_count": 33,
     "metadata": {},
     "output_type": "execute_result"
    }
   ],
   "source": [
    "target = 7\n",
    "nums = [2,3,1,2,4,3]\n",
    "\n",
    "start = 0\n",
    "current_sum = 0\n",
    "min_length = float('inf')\n",
    "\n",
    "for end in range(len(nums)):\n",
    "    current_sum += nums[end]\n",
    "    \n",
    "    while current_sum >= target:\n",
    "        min_length = min(min_length, end - start + 1)\n",
    "        current_sum -= nums[start]\n",
    "        start += 1\n",
    "\n",
    "min_length if min_length != float('inf') else 0"
   ]
  },
  {
   "cell_type": "code",
   "execution_count": 28,
   "metadata": {},
   "outputs": [
    {
     "data": {
      "text/plain": [
       "[]"
      ]
     },
     "execution_count": 28,
     "metadata": {},
     "output_type": "execute_result"
    }
   ],
   "source": [
    "target = 10\n",
    "nums = [2,3,1,2,4,3]\n",
    "\n",
    "nums = sorted(nums, reverse=True)\n",
    "n = len(nums)\n",
    "\n",
    "if target in nums:\n",
    "    print([target])\n",
    "\n",
    "result = []\n",
    "\n",
    "for i in range(0, n):\n",
    "    \n",
    "    if (target - nums[i]) in nums:\n",
    "        target = target - nums[i]\n",
    "        result += [nums[i], target]\n",
    "\n",
    "\n",
    "result"
   ]
  },
  {
   "cell_type": "code",
   "execution_count": 30,
   "metadata": {},
   "outputs": [
    {
     "data": {
      "text/plain": [
       "6"
      ]
     },
     "execution_count": 30,
     "metadata": {},
     "output_type": "execute_result"
    }
   ],
   "source": [
    "target - nums[0]"
   ]
  },
  {
   "cell_type": "code",
   "execution_count": 26,
   "metadata": {},
   "outputs": [
    {
     "data": {
      "text/plain": [
       "9"
      ]
     },
     "execution_count": 26,
     "metadata": {},
     "output_type": "execute_result"
    }
   ],
   "source": [
    "target - nums[i]"
   ]
  },
  {
   "cell_type": "code",
   "execution_count": 23,
   "metadata": {},
   "outputs": [
    {
     "data": {
      "text/plain": [
       "[4, 3, 3, 2, 2, 1]"
      ]
     },
     "execution_count": 23,
     "metadata": {},
     "output_type": "execute_result"
    }
   ],
   "source": [
    "nums"
   ]
  },
  {
   "cell_type": "code",
   "execution_count": 9,
   "metadata": {},
   "outputs": [
    {
     "data": {
      "text/plain": [
       "[3, 3, 2]"
      ]
     },
     "execution_count": 9,
     "metadata": {},
     "output_type": "execute_result"
    }
   ],
   "source": []
  },
  {
   "cell_type": "markdown",
   "metadata": {},
   "source": [
    "## 664. Strange Printer\n",
    "There is a strange printer with the following two special properties:\n",
    "- The printer can only print a sequence of the same character each time.\n",
    "- At each turn, the printer can print new characters starting from and ending at any place and will cover the original existing characters.\n",
    "\n",
    "Given a string $s$, return the minimum number of turns the printer needed to print it.\n",
    "\n",
    "Example 1:\n",
    "\n",
    "```\n",
    "Input: s = \"aaabbb\"\n",
    "Output: 2\n",
    "Explanation: Print \"aaa\" first and then print \"bbb\".\n",
    "```\n",
    "Example 2:\n",
    "\n",
    "```\n",
    "Input: s = \"aba\"\n",
    "Output: 2\n",
    "Explanation: Print \"aaa\" first and then print \"b\" from the second place of the string, which will\n",
    "cover the existing character 'a'.\n",
    "```\n",
    "\n",
    "Constraints:\n",
    "* $ 1 \\leq s.length \\leq 100 $\n",
    "* `s` consists of lowercase English letters."
   ]
  },
  {
   "cell_type": "code",
   "execution_count": 4,
   "metadata": {},
   "outputs": [
    {
     "data": {
      "text/plain": [
       "Counter({'scikit-learn': 2,\n",
       "         'kubernetes': 1,\n",
       "         'azure data factory': 1,\n",
       "         'bash': 1,\n",
       "         'linux': 1,\n",
       "         'python': 1,\n",
       "         'pytorch': 1,\n",
       "         'jira': 1,\n",
       "         'data science': 1,\n",
       "         'bigquery': 1,\n",
       "         'agile': 1,\n",
       "         'snowflake': 1,\n",
       "         'microsoft azure': 1,\n",
       "         'spark': 1,\n",
       "         'excel/numbers/sheets': 1,\n",
       "         'java': 1,\n",
       "         'spacy': 1,\n",
       "         'power bl': 1,\n",
       "         'redshift': 1,\n",
       "         'databricks': 1,\n",
       "         'pyspark': 1,\n",
       "         'pandas': 1,\n",
       "         'r': 1,\n",
       "         'aws': 1,\n",
       "         'ssis': 1,\n",
       "         'numpy': 1,\n",
       "         'data structures & algorithms': 1,\n",
       "         'communications': 1,\n",
       "         'airflow': 1,\n",
       "         'qlik': 1,\n",
       "         'powerbi': 1,\n",
       "         'tableau': 1,\n",
       "         'dbt': 1,\n",
       "         'sql': 1,\n",
       "         'matplotlib': 1,\n",
       "         'business analytics': 1,\n",
       "         'mysql': 1,\n",
       "         'git': 1,\n",
       "         'apache spark': 1})"
      ]
     },
     "execution_count": 4,
     "metadata": {},
     "output_type": "execute_result"
    }
   ],
   "source": [
    "\n",
    "\n",
    "list = [\n",
    "    'Kubernetes'\n",
    "    , 'Azure Data Factory'\n",
    "    , 'Bash'\n",
    "    , 'Linux'\n",
    "    , 'Scikit-Learn'\n",
    "    , 'Python'\n",
    "    , 'Pytorch'\n",
    "    , 'JIRA'\n",
    "    , 'Data Science'\n",
    "    , 'BigQuery'\n",
    "    , 'Agile'\n",
    "    , 'Snowflake'\n",
    "    , 'Microsoft Azure'\n",
    "    , 'Spark'\n",
    "    , 'Excel/Numbers/Sheets'\n",
    "    , 'Java'\n",
    "    , 'SpaCy'\n",
    "    , 'Power Bl'\n",
    "    , 'Redshift'\n",
    "    , 'Databricks'\n",
    "    , 'PySpark'\n",
    "    , 'Pandas'\n",
    "    , 'R'\n",
    "    , 'AWS'\n",
    "    , 'SSIS'\n",
    "    , 'NumPy'\n",
    "    , 'Data Structures & Algorithms'\n",
    "    , 'Communications'\n",
    "    , 'Airflow'\n",
    "    , 'Qlik'\n",
    "    , 'PowerBI'\n",
    "    , 'Tableau'\n",
    "    , 'dbt'\n",
    "    , 'SQL'\n",
    "    , 'Matplotlib'\n",
    "    , 'Scikit-learn'\n",
    "    , 'Business Analytics'\n",
    "    , 'MySQL'\n",
    "    , 'Git'\n",
    "    , 'Apache Spark'\n",
    "]\n",
    "\n",
    "list = [l.lower() for l in list]\n",
    "from collections import Counter\n",
    "Counter(list)"
   ]
  },
  {
   "cell_type": "code",
   "execution_count": 14,
   "metadata": {},
   "outputs": [
    {
     "data": {
      "text/plain": [
       "6"
      ]
     },
     "execution_count": 14,
     "metadata": {},
     "output_type": "execute_result"
    }
   ],
   "source": [
    "from collections import Counter\n",
    "sports = [\n",
    "    \"Tennis\",\n",
    "    \"Tennis\",\n",
    "    \"Golf\",\n",
    "    \"Tennis\",\n",
    "    \"Cricket\",\n",
    "    \"Golf\",\n",
    "]\n",
    "\n",
    "d = Counter(sports)\n",
    "# Counter({'Tennis': 3, 'Golf': 2, 'Cricket': 1})\n",
    "\n",
    "sorted(d.elements())\n",
    "# ['Cricket', 'Golf', 'Golf', 'Tennis', 'Tennis', 'Tennis']\n",
    "\n",
    "# Most common n\n",
    "d.most_common(2)\n",
    "# [('Tennis', 3), ('Golf', 2)]\n",
    "\n",
    "# Least common n (2)\n",
    "d.most_common(2)[:-2-1:-1]\n",
    "# [('Golf', 2), ('Tennis', 3)]\n",
    "\n",
    "d.total() # 6"
   ]
  },
  {
   "cell_type": "code",
   "execution_count": 15,
   "metadata": {},
   "outputs": [
    {
     "name": "stdout",
     "output_type": "stream",
     "text": [
      "Counter({'a': 9, 'b': 5, 'c': 3})\n",
      "Counter({'a': 7, 'b': 5})\n",
      "Counter({'a': 1})\n",
      "Counter({'a': 8, 'b': 5, 'c': 3})\n"
     ]
    }
   ],
   "source": [
    "os.getcwd(): Get your current working directory.\n",
    "os.chdir(): Change your working directory.\n",
    "os.listdir(): List files and directories in a given path.\n",
    "os.makedirs(): Create directories, even nested ones.\n",
    "os.remove(): Delete a file.\n",
    "os.rename(): Rename a file or directory.\n",
    "os.path.exists(): Check if a file or directory exists.\n",
    "os.path.join(): Safely combine paths across different operating systems.\n",
    "os.environ: Access environment variables.\n",
    "os.system(): Execute shell commands directly from Python."
   ]
  },
  {
   "cell_type": "code",
   "execution_count": 23,
   "metadata": {},
   "outputs": [
    {
     "name": "stdout",
     "output_type": "stream",
     "text": [
      "Return Code: 0\n",
      "Command Output: Python 3.12.1\n",
      "\n"
     ]
    }
   ],
   "source": [
    "import subprocess\n",
    "result = subprocess.run(['py', '-V'], capture_output=True, text=True)\n",
    "print(f\"Return Code: {result.returncode}\")\n",
    "print(f\"Command Output: {result.stdout}\")\n",
    "# Return Code: 0\n",
    "# Command Output: Python 3.12.1"
   ]
  },
  {
   "cell_type": "code",
   "execution_count": 27,
   "metadata": {},
   "outputs": [
    {
     "ename": "AttributeError",
     "evalue": "module 'os' has no attribute 'fork'",
     "output_type": "error",
     "traceback": [
      "\u001b[1;31m---------------------------------------------------------------------------\u001b[0m",
      "\u001b[1;31mAttributeError\u001b[0m                            Traceback (most recent call last)",
      "Cell \u001b[1;32mIn[27], line 2\u001b[0m\n\u001b[0;32m      1\u001b[0m \u001b[38;5;28;01mimport\u001b[39;00m \u001b[38;5;21;01mos\u001b[39;00m\n\u001b[1;32m----> 2\u001b[0m pid \u001b[38;5;241m=\u001b[39m \u001b[43mos\u001b[49m\u001b[38;5;241;43m.\u001b[39;49m\u001b[43mfork\u001b[49m()\n\u001b[0;32m      3\u001b[0m \u001b[38;5;28;01mif\u001b[39;00m pid \u001b[38;5;241m==\u001b[39m \u001b[38;5;241m0\u001b[39m:\n\u001b[0;32m      4\u001b[0m     \u001b[38;5;66;03m# Executed by the child process\u001b[39;00m\n\u001b[0;32m      5\u001b[0m     \u001b[38;5;28mprint\u001b[39m(\u001b[38;5;124mf\u001b[39m\u001b[38;5;124m\"\u001b[39m\u001b[38;5;124mI am the child process with PID: \u001b[39m\u001b[38;5;132;01m{\u001b[39;00mos\u001b[38;5;241m.\u001b[39mgetpid()\u001b[38;5;132;01m}\u001b[39;00m\u001b[38;5;124m\"\u001b[39m)\n",
      "\u001b[1;31mAttributeError\u001b[0m: module 'os' has no attribute 'fork'"
     ]
    }
   ],
   "source": [
    "import os\n",
    "pid = os.fork()\n",
    "if pid == 0:\n",
    "    os.execlp('ls', 'ls', '-l')  \n",
    "    # Replace the child's process memory space with the 'ls -l' command"
   ]
  },
  {
   "cell_type": "code",
   "execution_count": 28,
   "metadata": {},
   "outputs": [
    {
     "data": {
      "text/plain": [
       "0"
      ]
     },
     "execution_count": 28,
     "metadata": {},
     "output_type": "execute_result"
    }
   ],
   "source": [
    "os.F_OK"
   ]
  },
  {
   "cell_type": "code",
   "execution_count": 31,
   "metadata": {},
   "outputs": [
    {
     "name": "stdout",
     "output_type": "stream",
     "text": [
      " Volume in drive C is OS\n",
      " Volume Serial Number is 1822-6678\n",
      "\n",
      " Directory of c:\\Users\\supha\\repos\\Math-Practices\n",
      "\n",
      "22/08/2024  13:50    <DIR>          .\n",
      "19/08/2024  11:09    <DIR>          ..\n",
      "19/08/2024  11:09             3,301 .gitignore\n",
      "24/08/2024  11:20            61,838 algorithm_practices.ipynb\n",
      "19/08/2024  16:18             5,156 probability_statistics_ml_practices.md\n",
      "19/08/2024  11:09                16 README.md\n",
      "21/08/2024  10:43             7,695 sql_practices.md\n",
      "23/08/2024  15:08             3,612 tips.md\n",
      "               6 File(s)         81,618 bytes\n",
      "               2 Dir(s)  37,865,639,936 bytes free\n"
     ]
    }
   ],
   "source": [
    "%ls"
   ]
  },
  {
   "cell_type": "code",
   "execution_count": 32,
   "metadata": {},
   "outputs": [
    {
     "name": "stdout",
     "output_type": "stream",
     "text": [
      "File descriptor: 3\n"
     ]
    }
   ],
   "source": [
    "import os\n",
    "fd = os.open(\"README.md\", os.O_RDWR | os.O_CREAT)\n",
    "print(f\"File descriptor: {fd}\")\n"
   ]
  },
  {
   "cell_type": "code",
   "execution_count": 33,
   "metadata": {},
   "outputs": [
    {
     "data": {
      "text/plain": [
       "13"
      ]
     },
     "execution_count": 33,
     "metadata": {},
     "output_type": "execute_result"
    }
   ],
   "source": [
    "os.write(fd, b\"Hello, World!\")"
   ]
  },
  {
   "cell_type": "code",
   "execution_count": 39,
   "metadata": {},
   "outputs": [
    {
     "name": "stdout",
     "output_type": "stream",
     "text": [
      "Total size: 86183 bytes\n",
      "Total size: 87421 bytes\n",
      "Total size: 110934 bytes\n",
      "Total size: 111174 bytes\n",
      "Total size: 115245 bytes\n",
      "Total size: 115245 bytes\n",
      "Total size: 119316 bytes\n",
      "Total size: 119316 bytes\n",
      "Total size: 123128 bytes\n",
      "Total size: 123128 bytes\n",
      "Total size: 136612 bytes\n",
      "Total size: 136981 bytes\n",
      "Total size: 138054 bytes\n",
      "Total size: 138300 bytes\n",
      "Total size: 138483 bytes\n",
      "Total size: 138699 bytes\n",
      "Total size: 138916 bytes\n",
      "Total size: 139100 bytes\n",
      "Total size: 139248 bytes\n",
      "Total size: 139431 bytes\n",
      "Total size: 139618 bytes\n",
      "Total size: 139835 bytes\n",
      "Total size: 144254 bytes\n",
      "Total size: 144470 bytes\n",
      "Total size: 147076 bytes\n",
      "Total size: 150166 bytes\n",
      "Total size: 150566 bytes\n",
      "Total size: 152046 bytes\n",
      "Total size: 152230 bytes\n",
      "Total size: 165825 bytes\n",
      "Total size: 178681 bytes\n",
      "Total size: 178864 bytes\n",
      "Total size: 179259 bytes\n",
      "Total size: 179443 bytes\n",
      "Total size: 179591 bytes\n",
      "Total size: 179775 bytes\n",
      "Total size: 182000 bytes\n",
      "Total size: 182216 bytes\n",
      "Total size: 182399 bytes\n",
      "Total size: 182582 bytes\n",
      "Total size: 184221 bytes\n",
      "Total size: 184405 bytes\n",
      "Total size: 187171 bytes\n",
      "Total size: 187355 bytes\n",
      "Total size: 187601 bytes\n",
      "Total size: 188795 bytes\n",
      "Total size: 190081 bytes\n",
      "Total size: 198443 bytes\n",
      "Total size: 199594 bytes\n",
      "Total size: 199742 bytes\n",
      "Total size: 199988 bytes\n",
      "Total size: 208183 bytes\n",
      "Total size: 213390 bytes\n",
      "Total size: 213575 bytes\n",
      "Total size: 213821 bytes\n",
      "Total size: 224847 bytes\n",
      "Total size: 229979 bytes\n",
      "Total size: 253844 bytes\n",
      "Total size: 257609 bytes\n",
      "Total size: 257793 bytes\n",
      "Total size: 262767 bytes\n",
      "Total size: 263012 bytes\n",
      "Total size: 267732 bytes\n",
      "Total size: 269064 bytes\n",
      "Total size: 269280 bytes\n",
      "Total size: 269497 bytes\n",
      "Total size: 269743 bytes\n",
      "Total size: 269960 bytes\n",
      "Total size: 269960 bytes\n",
      "Total size: 273589 bytes\n",
      "Total size: 273589 bytes\n",
      "Total size: 273630 bytes\n",
      "Total size: 273630 bytes\n",
      "Total size: 273701 bytes\n",
      "Total size: 273701 bytes\n"
     ]
    }
   ],
   "source": [
    "total_size = 0\n",
    "for dirpath, dirnames, filenames in os.walk('.'):\n",
    "    for file in filenames:\n",
    "        filepath = os.path.join(dirpath, file)\n",
    "        total_size += os.path.getsize(filepath)\n",
    "    print(f\"Total size: {total_size} bytes\")\n"
   ]
  },
  {
   "cell_type": "code",
   "execution_count": 40,
   "metadata": {},
   "outputs": [
    {
     "name": "stdout",
     "output_type": "stream",
     "text": [
      "Primary path separator: \\\n",
      "Alternative path separator: /\n"
     ]
    }
   ],
   "source": []
  },
  {
   "cell_type": "code",
   "execution_count": 41,
   "metadata": {},
   "outputs": [
    {
     "ename": "SyntaxError",
     "evalue": "invalid syntax (2278879766.py, line 1)",
     "output_type": "error",
     "traceback": [
      "\u001b[1;36m  Cell \u001b[1;32mIn[41], line 1\u001b[1;36m\u001b[0m\n\u001b[1;33m    threshold = 10  1024  1024\u001b[0m\n\u001b[1;37m                    ^\u001b[0m\n\u001b[1;31mSyntaxError\u001b[0m\u001b[1;31m:\u001b[0m invalid syntax\n"
     ]
    }
   ],
   "source": [
    "threshold = 10  1024  1024 \n",
    "threshold"
   ]
  },
  {
   "cell_type": "code",
   "execution_count": null,
   "metadata": {},
   "outputs": [],
   "source": []
  }
 ],
 "metadata": {
  "kernelspec": {
   "display_name": "Python 3",
   "language": "python",
   "name": "python3"
  },
  "language_info": {
   "codemirror_mode": {
    "name": "ipython",
    "version": 3
   },
   "file_extension": ".py",
   "mimetype": "text/x-python",
   "name": "python",
   "nbconvert_exporter": "python",
   "pygments_lexer": "ipython3",
   "version": "3.12.1"
  }
 },
 "nbformat": 4,
 "nbformat_minor": 2
}
