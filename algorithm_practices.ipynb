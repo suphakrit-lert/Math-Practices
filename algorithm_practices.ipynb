{
 "cells": [
  {
   "cell_type": "markdown",
   "metadata": {},
   "source": [
    "# Easy"
   ]
  },
  {
   "cell_type": "markdown",
   "metadata": {},
   "source": [
    "## 0. Finding Pairs\n",
    "Given a list of integers called input, return True if any value appears at least twice in the array. Return False if every element in the input list is distinct. For example, if the input list was [1,3,5,7,1], then return True because the number 1 shows up twice."
   ]
  },
  {
   "cell_type": "code",
   "execution_count": 286,
   "metadata": {},
   "outputs": [
    {
     "name": "stdout",
     "output_type": "stream",
     "text": [
      "False\n",
      "True\n"
     ]
    }
   ],
   "source": [
    "unique_nums = set()\n",
    "nums = [1, 3, 5, 7, 1]\n",
    "for num in nums:\n",
    "    if num in unique_nums:\n",
    "        print(False)\n",
    "        break\n",
    "    else:\n",
    "        unique_nums.add(num)\n"
   ]
  },
  {
   "cell_type": "code",
   "execution_count": 147,
   "metadata": {},
   "outputs": [],
   "source": [
    "def contains_duplicate(input) -> bool:\n",
    "    input_frequency = {}\n",
    "    for i in input:\n",
    "        if i in input_frequency.keys():\n",
    "            return True\n",
    "        else:\n",
    "            input_frequency[i] = 1\n",
    "    return False"
   ]
  },
  {
   "cell_type": "markdown",
   "metadata": {},
   "source": [
    "## 0. Maximizing Profit \n",
    "**Tips: Loop one time, Find the min_price and max_profit (price - min_price, max_profit) at each turn**\n",
    "\n",
    "You are given a list of stock prices, where the stock's price on the i^\"th \"  day is stored as the i^\"th \"  element of the prices list. You want to maximize your profit trading the stock, but are only allowed to buy the stock once and sell it once on a future day. Write a function called max_profit which takes in this list of stock prices, and computes the max profit possible. Return 0 if you can't make any profit. Input: `prices = [9,1,3,6,4,8,3,5,5]` Output: 7 Explanation: Buy on day 2 (price=1) and sell on day 6 (price=8), profit =8-1=7."
   ]
  },
  {
   "cell_type": "code",
   "execution_count": 281,
   "metadata": {},
   "outputs": [
    {
     "name": "stdout",
     "output_type": "stream",
     "text": [
      "7\n"
     ]
    }
   ],
   "source": [
    "prices = [9,1,3,6,4,8,3,5,5]\n",
    "max_profit = 0\n",
    "min_value = prices[0]\n",
    "\n",
    "for price in prices:\n",
    "    min_value = min(min_value, price)\n",
    "    max_profit = max(max_profit, price - min_value)\n",
    "print(max_profit)"
   ]
  },
  {
   "cell_type": "markdown",
   "metadata": {},
   "source": [
    "## 664. Strange Printer\n",
    "There is a strange printer with the following two special properties:\n",
    "- The printer can only print a sequence of the same character each time.\n",
    "- At each turn, the printer can print new characters starting from and ending at any place and will cover the original existing characters.\n",
    "\n",
    "Given a string $s$, return the minimum number of turns the printer needed to print it.\n",
    "\n",
    "Example 1:\n",
    "\n",
    "```\n",
    "Input: s = \"aaabbb\"\n",
    "Output: 2\n",
    "Explanation: Print \"aaa\" first and then print \"bbb\".\n",
    "```\n",
    "Example 2:\n",
    "\n",
    "```\n",
    "Input: s = \"aba\"\n",
    "Output: 2\n",
    "Explanation: Print \"aaa\" first and then print \"b\" from the second place of the string, which will\n",
    "cover the existing character 'a'.\n",
    "```\n",
    "\n",
    "Constraints:\n",
    "* $ 1 \\leq s.length \\leq 100 $\n",
    "* `s` consists of lowercase English letters."
   ]
  },
  {
   "cell_type": "code",
   "execution_count": null,
   "metadata": {},
   "outputs": [],
   "source": [
    "class Solution(object):\n",
    "    def __init__(self, s) -> None:\n",
    "        self.s = s\n",
    "\n",
    "    def strangePrinter(self, s):\n",
    "        \"\"\"\n",
    "        :type s: str\n",
    "        :rtype: int\n",
    "        \"\"\"\n",
    "        "
   ]
  },
  {
   "cell_type": "code",
   "execution_count": 2,
   "metadata": {},
   "outputs": [
    {
     "name": "stdout",
     "output_type": "stream",
     "text": [
      "a\n",
      "a\n",
      "a\n",
      "b\n",
      "b\n",
      "b\n"
     ]
    }
   ],
   "source": [
    "s = \"aaabbb\"\n",
    "for w in s:\n",
    "    print(w)"
   ]
  },
  {
   "cell_type": "markdown",
   "metadata": {},
   "source": [
    "## (O)(R) 1. Two Sum\n",
    "\n",
    "**Tips: Find a complement if the complement in the list or not**\n",
    "\n",
    "Given an array of integers nums and an integer target, return indices of the two numbers such that they add up to target.\n",
    "You may assume that each input would have exactly one solution, and you may not use the same element twice.\n",
    "You can return the answer in any order.\n",
    "\n",
    "Example 1:\n",
    "\n",
    "```\n",
    "Input: nums = [2,7,11,15], target = 9\n",
    "Output: [0,1]\n",
    "Explanation: Because nums [0] + nums [1] == 9, we return [0, 1].\n",
    "```\n",
    "```\n",
    "Example 2:\n",
    "Input: nums $=[3,2,4]$, target $=6$\n",
    "Output: $[1,2]$\n",
    "```\n",
    "\n",
    "```\n",
    "Example 3:\n",
    "Input: nums $=[3,3]$, target $=6$\n",
    "Output: $[0,1]$\n",
    "```\n",
    "\n",
    "Constraints:\n",
    "- $2<=$ nums. length $<=10^4$\n",
    "- $-10^9<=$ nums [i] $<=10^9$\n",
    "- $-10^9<=$ target $<=10^9$\n",
    "- Only one valid answer exists."
   ]
  },
  {
   "cell_type": "code",
   "execution_count": 35,
   "metadata": {},
   "outputs": [],
   "source": [
    "class Solution(object):\n",
    "    def twoSum1(self, nums, target):\n",
    "        \"\"\"\n",
    "        :type nums: List[int]\n",
    "        :type target: int\n",
    "        :rtype: List[int]\n",
    "        \"\"\"\n",
    "        for i in range(len(nums)):\n",
    "            for j in range(i + 1, len(nums)):\n",
    "                if nums[i] + nums[j] == target:\n",
    "                    return [i, j]\n",
    "                \n",
    "    def twoSum2(self, nums, target):\n",
    "        \"\"\"\n",
    "        :type nums: List[int]\n",
    "        :type target: int\n",
    "        :rtype: List[int]\n",
    "        \"\"\"\n",
    "        for i in range(len(nums)):\n",
    "            complement = target - nums[i]\n",
    "            if complement in nums[i + 1:]:\n",
    "                return [i, nums.index(complement, i + 1)]\n",
    "\n",
    "    def twoSum3(self, nums, target):\n",
    "        \"\"\"\n",
    "        :type nums: List[int]\n",
    "        :type target: int\n",
    "        :rtype: List[int]\n",
    "        \"\"\"\n",
    "        num_map = {}\n",
    "        n = len(nums)\n",
    "        for i in range(n):\n",
    "            complement = target - nums[i]\n",
    "            if complement in num_map.keys():\n",
    "                return [num_map[complement], i]\n",
    "            num_map[nums[i]] = i\n",
    "            "
   ]
  },
  {
   "cell_type": "code",
   "execution_count": 36,
   "metadata": {},
   "outputs": [],
   "source": [
    "# Create an instance of the Solution class\n",
    "solution = Solution()\n",
    "\n",
    "# Define the list of numbers and the target value\n",
    "nums = [2, 7, 11, 15]\n",
    "target = 9\n",
    "\n",
    "# Call the twoSum method\n",
    "result = solution.twoSum3(nums, target)\n",
    "\n",
    "assert result == [0, 1]"
   ]
  },
  {
   "cell_type": "markdown",
   "metadata": {},
   "source": [
    "## 9. Palindrome Number\n",
    "\n",
    "Given an integer $x$, return true if $x$ is a palindrome, and false otherwise.\n",
    "\n",
    "Example 1:\n",
    "\n",
    "```\n",
    "Input: x = 121\n",
    "Output: true\n",
    "Explanation: 121 reads as 121 from left to right and from right to left.\n",
    "```\n",
    "\n",
    "Example 2:\n",
    "```\n",
    "Input: x=-121\n",
    "Output: false\n",
    "Explanation: From left to right, it reads -121 . From right to left, it becomes 121-. Therefore it is not a palindrome.\n",
    "```\n",
    "\n",
    "Example 3:\n",
    "```\n",
    "Input: x=10\n",
    "Output: false\n",
    "Explanation: Reads 01 from right to left. Therefore it is not a palindrome.\n",
    "```\n",
    "\n",
    "Constraints:\n",
    "- $-2^{31}<=x<=2^{31}-1$\n",
    "\n",
    "Follow up: Could you solve it without converting the integer to a string?"
   ]
  },
  {
   "cell_type": "code",
   "execution_count": null,
   "metadata": {},
   "outputs": [],
   "source": [
    "class Solution(object):\n",
    "    def isPalindrome(self, x):\n",
    "        \"\"\"\n",
    "        :type x: int\n",
    "        :rtype: bool\n",
    "        \"\"\"\n",
    "        x = str(x)\n",
    "        return x == x[::-1]\n",
    "        "
   ]
  },
  {
   "cell_type": "markdown",
   "metadata": {},
   "source": [
    "## (R) 13. Roman to Integer\n",
    "Given a roman numeral, convert it to an integer.\n",
    "\n",
    "Example 1:\n",
    "\n",
    "```\n",
    "Input: s = \"III\"\n",
    "Output: 3\n",
    "Explanation: III = 3.\n",
    "```\n",
    "\n",
    "Example 2:\n",
    "\n",
    "```\n",
    "Input: s = \"LVIII\"\n",
    "Output: 58\n",
    "Explanation: L = 50,V=5, III = 3.\n",
    "```\n",
    "\n",
    "Example 3:\n",
    "\n",
    "```\n",
    "Input: s = \"MCMXCIV\"\n",
    "Output: 1994\n",
    "Explanation: M = 1000, CM = 900, XC = 90 and IV = 4.\n",
    "```\n",
    "\n",
    "Constraints:\n",
    "- $1<=$ s. length $<=15$\n",
    "- $s$ contains only the characters ('I', 'V', 'X', 'L', 'C', 'D', 'M').\n",
    "- It is guaranteed that $s$ is a valid roman numeral in the range [1, 3999]."
   ]
  },
  {
   "cell_type": "code",
   "execution_count": 105,
   "metadata": {},
   "outputs": [
    {
     "name": "stdout",
     "output_type": "stream",
     "text": [
      "0 0\n",
      "1 1000\n",
      "2 900\n",
      "3 1900\n",
      "4 1890\n",
      "5 1990\n",
      "6 1989\n"
     ]
    },
    {
     "data": {
      "text/plain": [
       "1994"
      ]
     },
     "execution_count": 105,
     "metadata": {},
     "output_type": "execute_result"
    }
   ],
   "source": [
    "s = 'MCMXCIV'\n",
    "value_mapping = {\n",
    "    'I': 1,\n",
    "    'V': 5,\n",
    "    'X': 10,\n",
    "    'L': 50,\n",
    "    'C': 100,\n",
    "    'D': 500,\n",
    "    'M': 1000\n",
    "}\n",
    "\n",
    "value = 0\n",
    "n = len(s)\n",
    "i = 0\n",
    "for i in range(n):\n",
    "    if (i < n - 1) and (value_mapping[s[i]] < value_mapping[s[i + 1]]):\n",
    "        value -= value_mapping[s[i]]\n",
    "    else:\n",
    "        value += value_mapping[s[i]]"
   ]
  },
  {
   "cell_type": "code",
   "execution_count": 99,
   "metadata": {},
   "outputs": [
    {
     "data": {
      "text/plain": [
       "1994"
      ]
     },
     "execution_count": 99,
     "metadata": {},
     "output_type": "execute_result"
    }
   ],
   "source": [
    "s = 'MCMXCIV'\n",
    "value_mapping = {\n",
    "    'I': 1,\n",
    "    'V': 5,\n",
    "    'X': 10,\n",
    "    'L': 50,\n",
    "    'C': 100,\n",
    "    'D': 500,\n",
    "    'M': 1000\n",
    "}\n",
    "\n",
    "value = 0\n",
    "n = len(s)\n",
    "i = 0\n",
    "while i < n:\n",
    "    if i + 1 == n:\n",
    "        value += value_mapping[s[i]]\n",
    "        break\n",
    "    elif value_mapping[s[i]] < value_mapping[s[i + 1]]:\n",
    "        value += value_mapping[s[i + 1]] - value_mapping[s[i]]\n",
    "        i += 2\n",
    "    else:\n",
    "        value += value_mapping[s[i]]\n",
    "        i += 1\n",
    "\n",
    "value\n"
   ]
  },
  {
   "cell_type": "markdown",
   "metadata": {},
   "source": [
    "## (X) 14. Longest Common Prefix\n",
    "**Tips: Sort first then compare the first and last elements**\n",
    "\n",
    "Write a function to find the longest common prefix string amongst an array of strings.\n",
    "If there is no common prefix, return an empty string $\\square$\n",
    "\n",
    "Example 1:\n",
    "\n",
    "$$\n",
    "\\begin{aligned}\n",
    "& \\text { Input: strs }=[\\text { \"flower\", \"flow\", \"flight\" }] \\\\\n",
    "& \\text { Output: \"fl\" }\n",
    "\\end{aligned}\n",
    "$$\n",
    "\n",
    "\n",
    "Example 2:\n",
    "\n",
    "$$\n",
    "\\begin{aligned}\n",
    "& \\text { Input: strs }=[\\text { \"dog\", \"racecar\", \"car\"] } \\\\\n",
    "& \\text { Output: \"\" } \\\\\n",
    "& \\text { Explanation: There is no common prefix among the input strings. }\n",
    "\\end{aligned}\n",
    "$$\n",
    "\n",
    "\n",
    "Constraints:\n",
    "$1<=$ strs. length $<=200$\n",
    "- $0<=$ strs[i]. length $<=200$\n",
    "- strs [i] consists of only lowercase English letters."
   ]
  },
  {
   "cell_type": "code",
   "execution_count": 135,
   "metadata": {},
   "outputs": [
    {
     "name": "stdout",
     "output_type": "stream",
     "text": [
      "fl\n"
     ]
    },
    {
     "data": {
      "text/plain": [
       "'fl'"
      ]
     },
     "execution_count": 135,
     "metadata": {},
     "output_type": "execute_result"
    }
   ],
   "source": [
    "strs = [\"flower\", \"flow\", \"flight\"]\n",
    "# strs = ['a', 'ab']\n",
    "\n",
    "# Sort first\n",
    "strs.sort()\n",
    "first = strs[0]\n",
    "last = strs[-1]\n",
    "\n",
    "answer = ''\n",
    "for i in range(min(len(first), len(last))):\n",
    "    if first[i] != last[i]:\n",
    "        print(answer)\n",
    "        break\n",
    "    answer += first[i]\n"
   ]
  },
  {
   "cell_type": "markdown",
   "metadata": {},
   "source": [
    "## (X)(R) 20. Valid Parentheses\n",
    "Given a string s containing just the characters ' $(1,1){ }^{\\prime}, '\\left\\{{ }^{\\prime},\\right\\}^{\\prime}, '\\left[{ }^{\\prime} \\text { and } '\\right]^{\\prime}$, determine if the input string is valid.\n",
    "An input string is valid if:\n",
    "1. Open brackets must be closed by the same type of brackets.\n",
    "2. Open brackets must be closed in the correct order.\n",
    "3. Every close bracket has a corresponding open bracket of the same type.\n",
    "\n",
    "Example 1:\n",
    "$$\n",
    "\\begin{aligned}\n",
    "& \\text { Input: } s=\\text { \"()\" } \\\\\n",
    "& \\text { Output: true }\n",
    "\\end{aligned}\n",
    "$$\n",
    "\n",
    "Example 2:\n",
    "\n",
    "```\n",
    "Input: s = \"()[]{}\"\n",
    "Output: true\n",
    "```\n",
    "Example 3:\n",
    "Input: $\\mathrm{s}=$ \"(]\"\n",
    "Output: false\n",
    "\n",
    "Constraints:\n",
    "- $1<=$ s. length $<=10^4$\n",
    "- s consists of parentheses only '() []\\{\\}'."
   ]
  },
  {
   "cell_type": "code",
   "execution_count": 177,
   "metadata": {},
   "outputs": [
    {
     "name": "stdout",
     "output_type": "stream",
     "text": [
      "True\n"
     ]
    }
   ],
   "source": [
    "s = \"()[]{}\"\n",
    "\n",
    "mapper = {\n",
    "    '(': ')',\n",
    "    '{': '}',\n",
    "    '[': ']'\n",
    "}\n",
    "stack = []\n",
    "\n",
    "# len(stack) == 0: The stack with opening bracket should not be empty for a closing bracket\n",
    "# c != mapper[stack.pop()]: The popped opening bracket should match the closing one\n",
    "\n",
    "for c in s:\n",
    "    if c in mapper.keys():\n",
    "        stack.append(c)\n",
    "    elif len(stack) == 0 or c != mapper[stack.pop()]:\n",
    "        print(False)\n",
    "        break\n",
    "\n",
    "# The stack should be empty at the end\n",
    "print(len(stack) == 0)"
   ]
  },
  {
   "cell_type": "code",
   "execution_count": 173,
   "metadata": {},
   "outputs": [],
   "source": [
    "s = \"()[]{}\"\n",
    "\n",
    "def isValid(s):\n",
    "    stack = [] #only use append and pop\n",
    "    pairs = {\n",
    "        '(': ')',\n",
    "        '{': '}',\n",
    "        '[': ']'\n",
    "    }\n",
    "    for bracket in s:\n",
    "        if bracket in pairs:\n",
    "            stack.append(bracket)\n",
    "        elif len(stack) == 0 or bracket != pairs[stack.pop()]:\n",
    "            return False\n",
    "    return len(stack) == 0\n"
   ]
  },
  {
   "cell_type": "code",
   "execution_count": 174,
   "metadata": {},
   "outputs": [
    {
     "data": {
      "text/plain": [
       "True"
      ]
     },
     "execution_count": 174,
     "metadata": {},
     "output_type": "execute_result"
    }
   ],
   "source": [
    "isValid(s)"
   ]
  },
  {
   "cell_type": "markdown",
   "metadata": {},
   "source": [
    "## (X)(R) 21. Merge Two Sorted Lists\n",
    "\n",
    "Tips: double pointer + `while i < n1 and j < n2`\n",
    "\n",
    "You are given the heads of two sorted linked lists list1 and list2.\n",
    "Merge the two lists into one sorted list. The list should be made by splicing together the nodes of the first two lists.\n",
    "\n",
    "Return the head of the merged linked list.\n",
    "\n",
    "Example 1:\n",
    "\n",
    "$$\n",
    "\\begin{aligned}\n",
    "& \\text { Input: list1 }=[1,2,4] \\text {, list2 }=[1,3,4] \\\\\n",
    "& \\text { Output: }[1,1,2,3,4,4]\n",
    "\\end{aligned}\n",
    "$$\n",
    "\n",
    "\n",
    "Example 2:\n",
    "\n",
    "```\n",
    "Input: list1 = [], list2 = []\n",
    "Output: []\n",
    "```\n",
    "Example 3:\n",
    "Input: list1 = [], list2 = [0]\n",
    "Output: [0]\n",
    "\n",
    "Constraints:\n",
    "- The number of nodes in both lists is in the range $[0,50]$.\n",
    "- $-100<=$ Node. val <= 100\n",
    "- Both list1 and list2 are sorted in non-decreasing order."
   ]
  },
  {
   "cell_type": "code",
   "execution_count": 293,
   "metadata": {},
   "outputs": [
    {
     "data": {
      "text/plain": [
       "[1, 1, 5, 6, 6, 7]"
      ]
     },
     "execution_count": 293,
     "metadata": {},
     "output_type": "execute_result"
    },
    {
     "ename": "",
     "evalue": "",
     "output_type": "error",
     "traceback": [
      "\u001b[1;31mThe Kernel crashed while executing code in the current cell or a previous cell. \n",
      "\u001b[1;31mPlease review the code in the cell(s) to identify a possible cause of the failure. \n",
      "\u001b[1;31mClick <a href='https://aka.ms/vscodeJupyterKernelCrash'>here</a> for more info. \n",
      "\u001b[1;31mView Jupyter <a href='command:jupyter.viewOutput'>log</a> for further details."
     ]
    }
   ],
   "source": [
    "# list1 = [1,2,4]\n",
    "# list2 = [1,3,4]\n",
    "\n",
    "list2 = [1, 5, 6]\n",
    "list1 = [1, 6, 7]\n",
    "\n",
    "n1, n2 = len(list1), len(list2)\n",
    "merged_list = []\n",
    "i, j = 0, 0\n",
    "\n",
    "while i < n1 and j < n2:\n",
    "    if list1[i] < list2[j]:\n",
    "        merged_list.append(list1[i])\n",
    "        i += 1\n",
    "    else:\n",
    "        merged_list.append(list2[j])\n",
    "        j += 1\n",
    "\n",
    "if i < n1:\n",
    "    merged_list.extend(list1[i:])\n",
    "elif j < n2:\n",
    "    merged_list.extend(list2[j:])\n",
    "\n",
    "merged_list"
   ]
  },
  {
   "cell_type": "code",
   "execution_count": 208,
   "metadata": {},
   "outputs": [
    {
     "name": "stdout",
     "output_type": "stream",
     "text": [
      "[1, 1, 2, 3, 4, 4]\n"
     ]
    }
   ],
   "source": [
    "def merge_two_sorted_lists(list1, list2):\n",
    "    merged_list = []\n",
    "    i, j = 0, 0\n",
    "\n",
    "    # Traverse both lists and append the smaller element to the merged list\n",
    "    while i < len(list1) and j < len(list2):\n",
    "        if list1[i] < list2[j]:\n",
    "            merged_list.append(list1[i])\n",
    "            i += 1\n",
    "        else:\n",
    "            merged_list.append(list2[j])\n",
    "            j += 1\n",
    "\n",
    "    # If there are remaining elements in list1, append them\n",
    "    while i < len(list1):\n",
    "        merged_list.append(list1[i])\n",
    "        i += 1\n",
    "\n",
    "    # If there are remaining elements in list2, append them\n",
    "    while j < len(list2):\n",
    "        merged_list.append(list2[j])\n",
    "        j += 1\n",
    "\n",
    "    return merged_list\n",
    "\n",
    "# Example usage:\n",
    "list1 = [1, 2, 4]\n",
    "list2 = [1, 3, 4]\n",
    "output = merge_two_sorted_lists(list1, list2)\n",
    "print(output)  # Output: [1, 1, 2, 3, 4, 4]\n"
   ]
  },
  {
   "cell_type": "code",
   "execution_count": null,
   "metadata": {},
   "outputs": [],
   "source": [
    "from typing import Optional\n",
    "\n",
    "# Definition for singly-linked list.\n",
    "class ListNode(object):\n",
    "    def __init__(self, val=0, next=None):\n",
    "        self.val = val\n",
    "        self.next = next\n",
    "\n",
    "class Solution:\n",
    "    def mergeTwoLists(self, list1: Optional[ListNode], list2: Optional[ListNode]) -> Optional[ListNode]:\n",
    "        dummy = ListNode()\n",
    "        cur = dummy\n",
    "\n",
    "        while list1 and list2:\n",
    "            if list1.val > list2.val:\n",
    "                cur.next = list2\n",
    "                list2 = list2.next\n",
    "            else:\n",
    "                cur.next = list1\n",
    "                list1 = list1.next\n",
    "            \n",
    "            cur = cur.next\n",
    "        \n",
    "        if list1:\n",
    "            cur.next = list1\n",
    "        else:\n",
    "            cur.next = list2\n",
    "        \n",
    "        return dummy.next"
   ]
  },
  {
   "cell_type": "code",
   "execution_count": 207,
   "metadata": {},
   "outputs": [
    {
     "name": "stdout",
     "output_type": "stream",
     "text": [
      "1 1\n",
      "3 5\n"
     ]
    },
    {
     "data": {
      "text/plain": [
       "[1, 1, 3, 5, 4]"
      ]
     },
     "execution_count": 207,
     "metadata": {},
     "output_type": "execute_result"
    }
   ],
   "source": [
    "# list1 = [1,2,4]\n",
    "# list2 = [1,3,4]\n",
    "\n",
    "list2 = [1,5]\n",
    "list1 = [1,3,4]\n",
    "sorted_list = []\n",
    "\n",
    "n1 = len(list1)\n",
    "n2 = len(list2)\n",
    "\n",
    "i = 0\n",
    "\n",
    "while i < min(n1, n2):\n",
    "    print(list1[i], list2[i])\n",
    "\n",
    "    if list1[i] < list2[i]:\n",
    "        sorted_list.append(list1[i])\n",
    "        sorted_list.append(list2[i])\n",
    "    elif list1[i] > list2[i]:\n",
    "        sorted_list.append(list2[i])\n",
    "        sorted_list.append(list1[i])\n",
    "    else:\n",
    "        sorted_list.append(list1[i])\n",
    "        sorted_list.append(list2[i])\n",
    "    i += 1\n",
    "s\n",
    "if n1 < n2:\n",
    "    sorted_list.extend(list2[n1:n2])\n",
    "elif n1 > n2:\n",
    "    sorted_list.extend(list1[n2:n1])\n",
    "\n",
    "sorted_list"
   ]
  },
  {
   "cell_type": "markdown",
   "metadata": {},
   "source": [
    "## 26. Remove Duplicates from Sorted Array\n",
    "Easy\n",
    "Topics\n",
    "Companies\n",
    "Hint\n",
    "\n",
    "Given an integer array nums sorted in non-decreasing order, remove the duplicates in-place such that each unique element appears only once. The relative order of the elements should be kept the same. Then return the number of unique elements in nums.\n",
    "\n",
    "Consider the number of unique elements of nums to be $k$, to get accepted, you need to do the following things:\n",
    "- Change the array nums such that the first k elements of nums contain the unique elements in the order they were present in nums initially. The remaining elements of nums are not important as well as the size of nums.\n",
    "- Return k.\n",
    "\n",
    "Custom Judge:\n",
    "\n",
    "The judge will test your solution with the following code:\n",
    "\n",
    "```\n",
    "int[] nums = [...]; // Input array\n",
    "int[] expectedNums = [...]; // The expected answer with correct length\n",
    "int k = removeDuplicates(nums); // Calls your implementation\n",
    "assert k == expectedNums.length;\n",
    "for (int i = 0; i <k; i++) {\n",
    "    assert nums[i] == expectedNums[i];\n",
    "}\n",
    "```\n",
    "If all assertions pass, then your solution will be accepted.\n",
    "\n",
    "Example 1:\n",
    "\n",
    "```\n",
    "Input: nums = [1,1,2]\n",
    "Output: 2, nums = [1,2,_]\n",
    "Explanation: Your function should return k = 2, with the first two elements of nums being 1 and 2\n",
    "respectively.\n",
    "It does not matter what you leave beyond the returned k (hence they are underscores).\n",
    "```\n",
    "\n",
    "Example 2:\n",
    "```\n",
    "Input: nums = [0,0,1,1,1,2,2,3,3,4]\n",
    "Output: 5, nums = [0,1,2,3,4,_,_,_,_,-]\n",
    "Explanation: Your function should return k = 5, with the first five elements of nums being 0, 1,\n",
    "2, 3, and 4 respectively.\n",
    "It does not matter what you leave beyond the returned k (hence they are underscores).\n",
    "```\n",
    "\n",
    "Constraints:\n",
    "- $1<=$ nums. length $<=3 * 10^4$\n",
    "$-100<=$ nums $[i]<=100$\n",
    "- nums is sorted in non-decreasing order."
   ]
  },
  {
   "cell_type": "code",
   "execution_count": 46,
   "metadata": {},
   "outputs": [],
   "source": [
    "nums = [0,0,1,1,1,2,2,3,3,4]\n",
    "j = 1\n",
    "for i in range(1, len(nums)):\n",
    "    if nums[i] != nums[i - 1]:\n",
    "        nums[j] = nums[i]\n",
    "        j += 1"
   ]
  },
  {
   "cell_type": "code",
   "execution_count": 44,
   "metadata": {},
   "outputs": [
    {
     "data": {
      "text/plain": [
       "[1, 2, 0]"
      ]
     },
     "execution_count": 44,
     "metadata": {},
     "output_type": "execute_result"
    }
   ],
   "source": [
    "nums = [1,1,2]\n",
    "# 5, nums = [0,1,2,3,4,_,_,_,_,_]\n",
    "\n",
    "unique_nums = set()\n",
    "for i in range(len(nums)):\n",
    "    if nums[i] not in unique_nums:\n",
    "        unique_nums.add(nums[i])\n",
    "    \n",
    "result = list(unique_nums) + [0] * (len(nums) - len(unique_nums))\n",
    "result"
   ]
  },
  {
   "cell_type": "code",
   "execution_count": 47,
   "metadata": {},
   "outputs": [
    {
     "data": {
      "text/plain": [
       "5"
      ]
     },
     "execution_count": 47,
     "metadata": {},
     "output_type": "execute_result"
    }
   ],
   "source": [
    "j"
   ]
  },
  {
   "cell_type": "code",
   "execution_count": 38,
   "metadata": {},
   "outputs": [
    {
     "data": {
      "text/plain": [
       "['_', '_', '_', '_', '_']"
      ]
     },
     "execution_count": 38,
     "metadata": {},
     "output_type": "execute_result"
    }
   ],
   "source": []
  },
  {
   "cell_type": "code",
   "execution_count": 31,
   "metadata": {},
   "outputs": [
    {
     "data": {
      "text/plain": [
       "[0, '_', 1, '_', '_', 2, '_', 3, '_', 4]"
      ]
     },
     "execution_count": 31,
     "metadata": {},
     "output_type": "execute_result"
    }
   ],
   "source": [
    "nums"
   ]
  },
  {
   "cell_type": "markdown",
   "metadata": {},
   "source": [
    "## 476. Number Complement\n",
    "Tips:\n",
    "- Work with bit -> Use bit operation\n",
    "- Complement of Number: `num.bit_length() -> mask = (1 << bit_length) -> num ^ mask`\n",
    "The complement of an integer is the integer you get when you flip all the 0 's to 1 's and all the 1 's to 0 's in its binary representation.\n",
    "- For example, The integer 5 is \"101\" in binary and its complement is \"010\" which is the integer 2 .\n",
    "\n",
    "Given an integer num, return its complement.\n",
    "\n",
    "Example 1:\n",
    "\n",
    "```\n",
    "Input: num = 5\n",
    "Output: 2\n",
    "Explanation: The binary representation of 5 is 101 (no leading zero bits), and its complement is\n",
    "1.   So you need to output 2.\n",
    "```\n",
    "Example 2:\n",
    "\n",
    "```\n",
    "Input: num = 1\n",
    "Output: 0\n",
    "Explanation: The binary representation of 1 is 1 (no leading zero bits), and its complement is 0.\n",
    "So you need to output 0.\n",
    "```\n",
    "\n",
    "Constraints:\n",
    "- $1<=$ num $<2^{31}$## "
   ]
  },
  {
   "cell_type": "code",
   "execution_count": null,
   "metadata": {},
   "outputs": [],
   "source": [
    "# << Zero fill left shift Operator\n",
    "# Consider the number 5 in binary, which is 0000 0101 (assuming an 8-bit representation).\n",
    "# If you apply 5 << 1, the result is 0000 1010, which is 10 in decimal.\n",
    "# If you apply 5 << 2, the result is 0001 0100, which is 20 in decimal."
   ]
  },
  {
   "cell_type": "code",
   "execution_count": null,
   "metadata": {},
   "outputs": [],
   "source": [
    "# ^ XOR Operator: The result is 1 if the corresponding bits are different (i.e., one is 1 and the other is 0), \n",
    "# and 0 if they are the same (i.e., both 1 or both 0).\n",
    "\n",
    "#    0000 0101   (A = 5)\n",
    "# ^  0000 0011   (B = 3)\n",
    "# --------------\n",
    "#    0000 0110   (Result = 6)"
   ]
  },
  {
   "cell_type": "code",
   "execution_count": 27,
   "metadata": {},
   "outputs": [
    {
     "name": "stdout",
     "output_type": "stream",
     "text": [
      "7\n"
     ]
    },
    {
     "data": {
      "text/plain": [
       "2"
      ]
     },
     "execution_count": 27,
     "metadata": {},
     "output_type": "execute_result"
    }
   ],
   "source": [
    "num = 5\n",
    "bit_length = num.bit_length() # 3\n",
    "1 << bit_length # 1 << 3 = 8\n",
    "mask = (1 << bit_length) - 1 # 7\n",
    "num ^ mask # 5 ^ 7\n",
    "\n",
    "# 5 = 0000 0101\n",
    "# 1 = 0000 0001\n",
    "# 8 = 1 << 3 = 0000 1000\n",
    "# 7 = 0000 0111\n",
    "\n",
    "#   5 = 0000 0101\n",
    "# ^ 7 = 0000 0111\n",
    "#   2 = 0000 0010"
   ]
  },
  {
   "cell_type": "code",
   "execution_count": 1,
   "metadata": {},
   "outputs": [
    {
     "name": "stdout",
     "output_type": "stream",
     "text": [
      "[1, 0, 1]\n"
     ]
    }
   ],
   "source": [
    "num = 5\n",
    "i = 0\n",
    "\n",
    "while num / (2 ** i) > 2:\n",
    "    i += 1\n",
    "\n",
    "max_power = i\n",
    "binary_num = []\n",
    "\n",
    "for i in range(max_power, 0, -1):\n",
    "    if num // 2 ** i > 0:\n",
    "        binary_num.append(1)\n",
    "        num = num % (2 ** i)\n",
    "    else:\n",
    "        binary_num.append(0)\n",
    "\n",
    "if num == 1:\n",
    "    binary_num.append(1)\n",
    "else:\n",
    "    binary_num.append(0)\n",
    "\n",
    "print(binary_num)\n"
   ]
  },
  {
   "cell_type": "code",
   "execution_count": 262,
   "metadata": {},
   "outputs": [
    {
     "name": "stdout",
     "output_type": "stream",
     "text": [
      "[0, 1, 0]\n"
     ]
    }
   ],
   "source": [
    "num = 5\n",
    "i = 0\n",
    "\n",
    "while num / (2 ** i) > 2:\n",
    "    i += 1\n",
    "\n",
    "max_power = i\n",
    "rev_binary_num = []\n",
    "\n",
    "for i in range(max_power, 0, -1):\n",
    "    if num // 2 ** i > 0:\n",
    "        rev_binary_num.append(0)\n",
    "        num = num % (2 ** i)\n",
    "    else:\n",
    "        rev_binary_num.append(1)\n",
    "\n",
    "if num == 1:\n",
    "    rev_binary_num.append(0)\n",
    "else:\n",
    "    rev_binary_num.append(1)\n",
    "\n",
    "print(rev_binary_num)"
   ]
  },
  {
   "cell_type": "code",
   "execution_count": 272,
   "metadata": {},
   "outputs": [],
   "source": [
    "num = 5\n",
    "i = 0\n",
    "\n",
    "while num / (2 ** i) > 2:\n",
    "    i += 1\n",
    "\n",
    "max_power = i\n",
    "rev_binary_num = []\n",
    "\n",
    "for i in range(max_power, 0, -1):\n",
    "    if num // 2 ** i > 0:\n",
    "        rev_binary_num.append(0)\n",
    "        num = num % (2 ** i)\n",
    "    else:\n",
    "        rev_binary_num.append(1)\n",
    "\n",
    "if num == 1:\n",
    "    rev_binary_num.append(0)\n",
    "else:\n",
    "    rev_binary_num.append(1)\n",
    "\n",
    "rev_num = 0\n",
    "for i in range(len(rev_binary_num) - 1, 0, -1):\n",
    "    rev_num += rev_binary_num[i] * (2 ** i)"
   ]
  },
  {
   "cell_type": "markdown",
   "metadata": {},
   "source": [
    "# Medium"
   ]
  },
  {
   "cell_type": "markdown",
   "metadata": {},
   "source": [
    "## 2. Add Two Numbers"
   ]
  },
  {
   "cell_type": "code",
   "execution_count": null,
   "metadata": {},
   "outputs": [],
   "source": []
  },
  {
   "cell_type": "code",
   "execution_count": null,
   "metadata": {},
   "outputs": [],
   "source": []
  },
  {
   "cell_type": "code",
   "execution_count": null,
   "metadata": {},
   "outputs": [],
   "source": []
  },
  {
   "cell_type": "markdown",
   "metadata": {},
   "source": []
  }
 ],
 "metadata": {
  "kernelspec": {
   "display_name": "Python 3",
   "language": "python",
   "name": "python3"
  },
  "language_info": {
   "codemirror_mode": {
    "name": "ipython",
    "version": 3
   },
   "file_extension": ".py",
   "mimetype": "text/x-python",
   "name": "python",
   "nbconvert_exporter": "python",
   "pygments_lexer": "ipython3",
   "version": "3.12.1"
  }
 },
 "nbformat": 4,
 "nbformat_minor": 2
}
