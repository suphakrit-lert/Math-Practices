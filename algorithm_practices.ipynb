{
 "cells": [
  {
   "cell_type": "markdown",
   "metadata": {},
   "source": [
    "## 664. Strange Printer\n",
    "There is a strange printer with the following two special properties:\n",
    "- The printer can only print a sequence of the same character each time.\n",
    "- At each turn, the printer can print new characters starting from and ending at any place and will cover the original existing characters.\n",
    "\n",
    "Given a string $s$, return the minimum number of turns the printer needed to print it.\n",
    "\n",
    "Example 1:\n",
    "\n",
    "```\n",
    "Input: s = \"aaabbb\"\n",
    "Output: 2\n",
    "Explanation: Print \"aaa\" first and then print \"bbb\".\n",
    "```\n",
    "Example 2:\n",
    "\n",
    "```\n",
    "Input: s = \"aba\"\n",
    "Output: 2\n",
    "Explanation: Print \"aaa\" first and then print \"b\" from the second place of the string, which will\n",
    "cover the existing character 'a'.\n",
    "```\n",
    "\n",
    "Constraints:\n",
    "* $ 1 \\leq s.length \\leq 100 $\n",
    "* `s` consists of lowercase English letters."
   ]
  },
  {
   "cell_type": "code",
   "execution_count": null,
   "metadata": {},
   "outputs": [],
   "source": [
    "class Solution(object):\n",
    "    def __init__(self, s) -> None:\n",
    "        self.s = s\n",
    "\n",
    "    def strangePrinter(self, s):\n",
    "        \"\"\"\n",
    "        :type s: str\n",
    "        :rtype: int\n",
    "        \"\"\"\n",
    "        "
   ]
  },
  {
   "cell_type": "code",
   "execution_count": 2,
   "metadata": {},
   "outputs": [
    {
     "name": "stdout",
     "output_type": "stream",
     "text": [
      "a\n",
      "a\n",
      "a\n",
      "b\n",
      "b\n",
      "b\n"
     ]
    }
   ],
   "source": [
    "s = \"aaabbb\"\n",
    "for w in s:\n",
    "    print(w)"
   ]
  },
  {
   "cell_type": "markdown",
   "metadata": {},
   "source": [
    "## (O)(R) 1. Two Sum\n",
    "\n",
    "Given an array of integers nums and an integer target, return indices of the two numbers such that they add up to target.\n",
    "You may assume that each input would have exactly one solution, and you may not use the same element twice.\n",
    "You can return the answer in any order.\n",
    "\n",
    "Example 1:\n",
    "\n",
    "```\n",
    "Input: nums = [2,7,11,15], target = 9\n",
    "Output: [0,1]\n",
    "Explanation: Because nums [0] + nums [1] == 9, we return [0, 1].\n",
    "```\n",
    "```\n",
    "Example 2:\n",
    "Input: nums $=[3,2,4]$, target $=6$\n",
    "Output: $[1,2]$\n",
    "```\n",
    "\n",
    "```\n",
    "Example 3:\n",
    "Input: nums $=[3,3]$, target $=6$\n",
    "Output: $[0,1]$\n",
    "```\n",
    "\n",
    "Constraints:\n",
    "- $2<=$ nums. length $<=10^4$\n",
    "- $-10^9<=$ nums [i] $<=10^9$\n",
    "- $-10^9<=$ target $<=10^9$\n",
    "- Only one valid answer exists."
   ]
  },
  {
   "cell_type": "code",
   "execution_count": 35,
   "metadata": {},
   "outputs": [],
   "source": [
    "class Solution(object):\n",
    "    def twoSum1(self, nums, target):\n",
    "        \"\"\"\n",
    "        :type nums: List[int]\n",
    "        :type target: int\n",
    "        :rtype: List[int]\n",
    "        \"\"\"\n",
    "        for i in range(len(nums)):\n",
    "            for j in range(i + 1, len(nums)):\n",
    "                if nums[i] + nums[j] == target:\n",
    "                    return [i, j]\n",
    "                \n",
    "    def twoSum2(self, nums, target):\n",
    "        \"\"\"\n",
    "        :type nums: List[int]\n",
    "        :type target: int\n",
    "        :rtype: List[int]\n",
    "        \"\"\"\n",
    "        for i in range(len(nums)):\n",
    "            complement = target - nums[i]\n",
    "            if complement in nums[i + 1:]:\n",
    "                return [i, nums.index(complement, i + 1)]\n",
    "\n",
    "    def twoSum3(self, nums, target):\n",
    "        \"\"\"\n",
    "        :type nums: List[int]\n",
    "        :type target: int\n",
    "        :rtype: List[int]\n",
    "        \"\"\"\n",
    "        num_map = {}\n",
    "        n = len(nums)\n",
    "        for i in range(n):\n",
    "            complement = target - nums[i]\n",
    "            if complement in num_map.keys():\n",
    "                return [num_map[complement], i]\n",
    "            num_map[nums[i]] = i\n",
    "            "
   ]
  },
  {
   "cell_type": "code",
   "execution_count": 36,
   "metadata": {},
   "outputs": [],
   "source": [
    "# Create an instance of the Solution class\n",
    "solution = Solution()\n",
    "\n",
    "# Define the list of numbers and the target value\n",
    "nums = [2, 7, 11, 15]\n",
    "target = 9\n",
    "\n",
    "# Call the twoSum method\n",
    "result = solution.twoSum3(nums, target)\n",
    "\n",
    "assert result == [0, 1]"
   ]
  },
  {
   "cell_type": "markdown",
   "metadata": {},
   "source": [
    "## 9. Palindrome Number\n",
    "\n",
    "Given an integer $x$, return true if $x$ is a palindrome, and false otherwise.\n",
    "\n",
    "Example 1:\n",
    "\n",
    "```\n",
    "Input: x = 121\n",
    "Output: true\n",
    "Explanation: 121 reads as 121 from left to right and from right to left.\n",
    "```\n",
    "\n",
    "Example 2:\n",
    "```\n",
    "Input: x=-121\n",
    "Output: false\n",
    "Explanation: From left to right, it reads -121 . From right to left, it becomes 121-. Therefore it is not a palindrome.\n",
    "```\n",
    "\n",
    "Example 3:\n",
    "```\n",
    "Input: x=10\n",
    "Output: false\n",
    "Explanation: Reads 01 from right to left. Therefore it is not a palindrome.\n",
    "```\n",
    "\n",
    "Constraints:\n",
    "- $-2^{31}<=x<=2^{31}-1$\n",
    "\n",
    "Follow up: Could you solve it without converting the integer to a string?"
   ]
  },
  {
   "cell_type": "code",
   "execution_count": null,
   "metadata": {},
   "outputs": [],
   "source": [
    "class Solution(object):\n",
    "    def isPalindrome(self, x):\n",
    "        \"\"\"\n",
    "        :type x: int\n",
    "        :rtype: bool\n",
    "        \"\"\"\n",
    "        x = str(x)\n",
    "        return x == x[::-1]\n",
    "        "
   ]
  },
  {
   "cell_type": "markdown",
   "metadata": {},
   "source": [
    "## (R) 13. Roman to Integer\n",
    "Given a roman numeral, convert it to an integer.\n",
    "\n",
    "Example 1:\n",
    "\n",
    "```\n",
    "Input: s = \"III\"\n",
    "Output: 3\n",
    "Explanation: III = 3.\n",
    "```\n",
    "\n",
    "Example 2:\n",
    "\n",
    "```\n",
    "Input: s = \"LVIII\"\n",
    "Output: 58\n",
    "Explanation: L = 50,V=5, III = 3.\n",
    "```\n",
    "\n",
    "Example 3:\n",
    "\n",
    "```\n",
    "Input: s = \"MCMXCIV\"\n",
    "Output: 1994\n",
    "Explanation: M = 1000, CM = 900, XC = 90 and IV = 4.\n",
    "```\n",
    "\n",
    "Constraints:\n",
    "- $1<=$ s. length $<=15$\n",
    "- $s$ contains only the characters ('I', 'V', 'X', 'L', 'C', 'D', 'M').\n",
    "- It is guaranteed that $s$ is a valid roman numeral in the range [1, 3999]."
   ]
  },
  {
   "cell_type": "code",
   "execution_count": 105,
   "metadata": {},
   "outputs": [
    {
     "name": "stdout",
     "output_type": "stream",
     "text": [
      "0 0\n",
      "1 1000\n",
      "2 900\n",
      "3 1900\n",
      "4 1890\n",
      "5 1990\n",
      "6 1989\n"
     ]
    },
    {
     "data": {
      "text/plain": [
       "1994"
      ]
     },
     "execution_count": 105,
     "metadata": {},
     "output_type": "execute_result"
    }
   ],
   "source": [
    "s = 'MCMXCIV'\n",
    "value_mapping = {\n",
    "    'I': 1,\n",
    "    'V': 5,\n",
    "    'X': 10,\n",
    "    'L': 50,\n",
    "    'C': 100,\n",
    "    'D': 500,\n",
    "    'M': 1000\n",
    "}\n",
    "\n",
    "value = 0\n",
    "n = len(s)\n",
    "i = 0\n",
    "for i in range(n):\n",
    "    if (i < n - 1) and (value_mapping[s[i]] < value_mapping[s[i + 1]]):\n",
    "        value -= value_mapping[s[i]]\n",
    "    else:\n",
    "        value += value_mapping[s[i]]"
   ]
  },
  {
   "cell_type": "code",
   "execution_count": 99,
   "metadata": {},
   "outputs": [
    {
     "data": {
      "text/plain": [
       "1994"
      ]
     },
     "execution_count": 99,
     "metadata": {},
     "output_type": "execute_result"
    }
   ],
   "source": [
    "s = 'MCMXCIV'\n",
    "value_mapping = {\n",
    "    'I': 1,\n",
    "    'V': 5,\n",
    "    'X': 10,\n",
    "    'L': 50,\n",
    "    'C': 100,\n",
    "    'D': 500,\n",
    "    'M': 1000\n",
    "}\n",
    "\n",
    "value = 0\n",
    "n = len(s)\n",
    "i = 0\n",
    "while i < n:\n",
    "    if i + 1 == n:\n",
    "        value += value_mapping[s[i]]\n",
    "        break\n",
    "    elif value_mapping[s[i]] < value_mapping[s[i + 1]]:\n",
    "        value += value_mapping[s[i + 1]] - value_mapping[s[i]]\n",
    "        i += 2\n",
    "    else:\n",
    "        value += value_mapping[s[i]]\n",
    "        i += 1\n",
    "\n",
    "value\n"
   ]
  },
  {
   "cell_type": "markdown",
   "metadata": {},
   "source": [
    "## 14. Longest Common Prefix\n",
    "\n",
    "Write a function to find the longest common prefix string amongst an array of strings.\n",
    "If there is no common prefix, return an empty string $\\square$\n",
    "\n",
    "Example 1:\n",
    "\n",
    "$$\n",
    "\\begin{aligned}\n",
    "& \\text { Input: strs }=[\\text { \"flower\", \"flow\", \"flight\" }] \\\\\n",
    "& \\text { Output: \"fl\" }\n",
    "\\end{aligned}\n",
    "$$\n",
    "\n",
    "\n",
    "Example 2:\n",
    "\n",
    "$$\n",
    "\\begin{aligned}\n",
    "& \\text { Input: strs }=[\\text { \"dog\", \"racecar\", \"car\"] } \\\\\n",
    "& \\text { Output: \"\" } \\\\\n",
    "& \\text { Explanation: There is no common prefix among the input strings. }\n",
    "\\end{aligned}\n",
    "$$\n",
    "\n",
    "\n",
    "Constraints:\n",
    "$1<=$ strs. length $<=200$\n",
    "- $0<=$ strs[i]. length $<=200$\n",
    "- strs [i] consists of only lowercase English letters."
   ]
  },
  {
   "cell_type": "code",
   "execution_count": 135,
   "metadata": {},
   "outputs": [
    {
     "name": "stdout",
     "output_type": "stream",
     "text": [
      "fl\n"
     ]
    },
    {
     "data": {
      "text/plain": [
       "'fl'"
      ]
     },
     "execution_count": 135,
     "metadata": {},
     "output_type": "execute_result"
    }
   ],
   "source": [
    "strs = [\"flower\", \"flow\", \"flight\"]\n",
    "# strs = ['a', 'ab'] \n",
    "strs.sort()\n",
    "first = strs[0]\n",
    "last = strs[-1]\n",
    "\n",
    "answer = ''\n",
    "for i in range(min(len(first), len(last))):\n",
    "    if first[i] != last[i]:\n",
    "        print(answer)\n",
    "        break\n",
    "    answer += first[i]\n"
   ]
  },
  {
   "cell_type": "code",
   "execution_count": null,
   "metadata": {},
   "outputs": [],
   "source": []
  }
 ],
 "metadata": {
  "kernelspec": {
   "display_name": "Python 3",
   "language": "python",
   "name": "python3"
  },
  "language_info": {
   "codemirror_mode": {
    "name": "ipython",
    "version": 3
   },
   "file_extension": ".py",
   "mimetype": "text/x-python",
   "name": "python",
   "nbconvert_exporter": "python",
   "pygments_lexer": "ipython3",
   "version": "3.12.1"
  }
 },
 "nbformat": 4,
 "nbformat_minor": 2
}
